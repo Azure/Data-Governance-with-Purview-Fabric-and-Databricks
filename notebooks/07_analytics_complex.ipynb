{
 "cells": [
  {
   "cell_type": "markdown",
   "id": "e5a046ee",
   "metadata": {},
   "source": [
    "# Análises Complexas - Dados Bancários\n",
    "\n",
    "Este notebook contém **3 consultas complexas** utilizando JOINs e Window Functions para análise avançada dos dados bancários.\n",
    "\n",
    "## Objetivo\n",
    "- Análises temporais sofisticadas\n",
    "- Ranking e comparações entre períodos\n",
    "- Detecção de padrões e tendências\n",
    "- Análises de cohort e performance relativa"
   ]
  },
  {
   "cell_type": "code",
   "execution_count": 1,
   "id": "fcb70c6e",
   "metadata": {},
   "outputs": [
    {
     "name": "stdout",
     "output_type": "stream",
     "text": [
      "🚀 Configuração para análises complexas concluída!\n",
      "🔗 Conectado ao banco: fsi_db\n",
      "📊 Schema: mkl_bank\n",
      "⚡ Pronto para análises avançadas com Window Functions!\n"
     ]
    }
   ],
   "source": [
    "# Configuração inicial\n",
    "import pandas as pd\n",
    "import matplotlib.pyplot as plt\n",
    "import seaborn as sns\n",
    "import plotly.express as px\n",
    "import plotly.graph_objects as go\n",
    "from plotly.subplots import make_subplots\n",
    "from sqlalchemy import create_engine, text\n",
    "from datetime import datetime, timedelta\n",
    "import numpy as np\n",
    "import warnings, os\n",
    "from dotenv import load_dotenv \n",
    " \n",
    "# Carregar variáveis do arquivo .env de um diretório específico\n",
    "env_path = \"../env_files/.env\"\n",
    "load_dotenv(dotenv_path=env_path)\n",
    "warnings.filterwarnings('ignore')\n",
    "\n",
    "# Database configuration\n",
    "DB_CONFIG = {\n",
    "    'host': os.getenv(\"PGHOST\", \"localhost\"),\n",
    "    'port': os.getenv(\"PGPORT\", \"5432\"),\n",
    "    'user': os.getenv(\"PGUSER\", \"postgres\"),\n",
    "    'password': os.getenv(\"PGPASSWORD\", \"postgres\"),\n",
    "    'database': os.getenv(\"PGDATABASE\", \"postgres\")  # Default database to connect initially\n",
    "}\n",
    "\n",
    "# Criar conexão\n",
    "connection_string = f\"postgresql://{DB_CONFIG['user']}:{DB_CONFIG['password']}@{DB_CONFIG['host']}:{DB_CONFIG['port']}/{DB_CONFIG['database']}\"\n",
    "engine = create_engine(connection_string)\n",
    "\n",
    "# Schema alvo\n",
    "TARGET_SCHEMA = \"mkl_bank\"\n",
    "\n",
    "# Configurar estilo dos gráficos\n",
    "plt.style.use('seaborn-v0_8')\n",
    "sns.set_palette(\"viridis\")\n",
    "\n",
    "print(\"🚀 Configuração para análises complexas concluída!\")\n",
    "print(f\"🔗 Conectado ao banco: {DB_CONFIG['database']}\")\n",
    "print(f\"📊 Schema: {TARGET_SCHEMA}\")\n",
    "print(f\"⚡ Pronto para análises avançadas com Window Functions!\")"
   ]
  },
  {
   "cell_type": "markdown",
   "id": "687f2f78",
   "metadata": {},
   "source": [
    "## 📈 Consulta 1: Análise Temporal de Performance com Ranking\n",
    "\n",
    "**Objetivo**: Analisar a evolução temporal das agências usando window functions para ranking, crescimento e análise de trends."
   ]
  },
  {
   "cell_type": "code",
   "execution_count": 4,
   "id": "5b4fcf97",
   "metadata": {},
   "outputs": [
    {
     "name": "stdout",
     "output_type": "stream",
     "text": [
      "✅ Conexão OK - Total de agências: 166\n",
      "📈 ANÁLISE TEMPORAL DE PERFORMANCE COM RANKING\n",
      "====================================================================================================\n",
      "Agência  Cidade       Mês      Rank Val Crescimento Classificação  \n",
      "----------------------------------------------------------------------------------------------------\n",
      "4522     Rocha        2024-05       1     -49.8% Top 20%        \n",
      "2199     Vieira       2024-05       2     -46.0% Top 20%        \n",
      "4123     Albuquerque  2024-05       3     -23.8% Top 20%        \n",
      "5981     Rocha Pauli  2024-05       4     -53.6% Acima da Média \n",
      "8316     Pinto        2024-05       5     -44.2% Top 20%        \n",
      "1257     Camargo Gra  2024-05       6     -53.0% Bottom 20%     \n",
      "6319     Moura do Ga  2024-05       7     -48.0% Média          \n",
      "7273     Marques      2024-05       8     -54.1% Média          \n",
      "4415     Sampaio de   2024-05       9     -58.2% Bottom 20%     \n",
      "4593     Porto        2024-05      10     -52.7% Acima da Média \n",
      "3913     Pimenta de   2024-05      11     -52.0% Abaixo da Média\n",
      "5430     Casa Grande  2024-05      12     -52.7% Abaixo da Média\n",
      "1714     Rocha        2024-05      13     -55.9% Bottom 20%     \n",
      "6840     Melo         2024-05      14     -48.8% Bottom 20%     \n",
      "6187     da Rocha de  2024-05      15     -55.6% Bottom 20%     \n",
      "📈 ANÁLISE TEMPORAL DE PERFORMANCE COM RANKING\n",
      "====================================================================================================\n",
      "Agência  Cidade       Mês      Rank Val Crescimento Classificação  \n",
      "----------------------------------------------------------------------------------------------------\n",
      "4522     Rocha        2024-05       1     -49.8% Top 20%        \n",
      "2199     Vieira       2024-05       2     -46.0% Top 20%        \n",
      "4123     Albuquerque  2024-05       3     -23.8% Top 20%        \n",
      "5981     Rocha Pauli  2024-05       4     -53.6% Acima da Média \n",
      "8316     Pinto        2024-05       5     -44.2% Top 20%        \n",
      "1257     Camargo Gra  2024-05       6     -53.0% Bottom 20%     \n",
      "6319     Moura do Ga  2024-05       7     -48.0% Média          \n",
      "7273     Marques      2024-05       8     -54.1% Média          \n",
      "4415     Sampaio de   2024-05       9     -58.2% Bottom 20%     \n",
      "4593     Porto        2024-05      10     -52.7% Acima da Média \n",
      "3913     Pimenta de   2024-05      11     -52.0% Abaixo da Média\n",
      "5430     Casa Grande  2024-05      12     -52.7% Abaixo da Média\n",
      "1714     Rocha        2024-05      13     -55.9% Bottom 20%     \n",
      "6840     Melo         2024-05      14     -48.8% Bottom 20%     \n",
      "6187     da Rocha de  2024-05      15     -55.6% Bottom 20%     \n"
     ]
    },
    {
     "data": {
      "application/vnd.plotly.v1+json": {
       "config": {
        "plotlyServerURL": "https://plot.ly"
       },
       "data": [
        {
         "line": {
          "color": "red"
         },
         "mode": "lines+markers",
         "name": "Agência 4522",
         "type": "scatter",
         "x": [
          "2024-03-01T00:00:00.000000000",
          "2024-04-01T00:00:00.000000000",
          "2024-05-01T00:00:00.000000000"
         ],
         "xaxis": "x",
         "y": {
          "bdata": "BgEB",
          "dtype": "i1"
         },
         "yaxis": "y"
        },
        {
         "line": {
          "color": "blue"
         },
         "mode": "lines+markers",
         "name": "Agência 2199",
         "type": "scatter",
         "x": [
          "2024-03-01T00:00:00.000000000",
          "2024-04-01T00:00:00.000000000",
          "2024-05-01T00:00:00.000000000"
         ],
         "xaxis": "x",
         "y": {
          "bdata": "BAQC",
          "dtype": "i1"
         },
         "yaxis": "y"
        },
        {
         "line": {
          "color": "green"
         },
         "mode": "lines+markers",
         "name": "Agência 4415",
         "type": "scatter",
         "x": [
          "2024-03-01T00:00:00.000000000",
          "2024-04-01T00:00:00.000000000",
          "2024-05-01T00:00:00.000000000"
         ],
         "xaxis": "x",
         "y": {
          "bdata": "AwMJ",
          "dtype": "i1"
         },
         "yaxis": "y"
        },
        {
         "line": {
          "color": "orange"
         },
         "mode": "lines+markers",
         "name": "Agência 1257",
         "type": "scatter",
         "x": [
          "2024-03-01T00:00:00.000000000",
          "2024-04-01T00:00:00.000000000",
          "2024-05-01T00:00:00.000000000"
         ],
         "xaxis": "x",
         "y": {
          "bdata": "CgUG",
          "dtype": "i1"
         },
         "yaxis": "y"
        },
        {
         "line": {
          "color": "purple"
         },
         "mode": "lines+markers",
         "name": "Agência 3913",
         "type": "scatter",
         "x": [
          "2024-03-01T00:00:00.000000000",
          "2024-04-01T00:00:00.000000000",
          "2024-05-01T00:00:00.000000000"
         ],
         "xaxis": "x",
         "y": {
          "bdata": "AgkL",
          "dtype": "i1"
         },
         "yaxis": "y"
        },
        {
         "marker": {
          "color": "lightblue"
         },
         "name": "Crescimento %",
         "nbinsx": 20,
         "opacity": 0.7,
         "type": "histogram",
         "x": {
          "bdata": "zHPWn7DoSMBDjc+IWwJHwLs+HTpnyjfABccDUsfMSsCKeNdyqB5GwPDgcPkshUrA3hwC12/9R8A67fGDowdLwKJYQF+NFE3ARlnBA/dfSsAa4qT7Zf5JwP5vQIrHVkrAwpwshwr4S8BQSvnJn2dIwOG+ssvXzEvALrhhJPoATMCKbMUNBcVLwMjgFWm0tEvAkkf7RNxBUMAwVAx4nbZPwEc0TvTXgzFATiCSBwkdOUCOaB3+wsgTQJqkvilPFBZAC/FZgeuTK0CYMfmyZxAeQFrqOuv6KAvAACUM2WipC8CUKAv9e2snwL0Hqj2jLCHAatGxkhvF5L+2WercFlkzQDFGLeUqzDRAC6cxBVq+MsDIV+6qG2TKv1LV9IFPOy1AhAM/qZ2NEcB9HAcTyIoywDfyd2MJYjfA5U1NWgRmEUCSlpIVxDpBQE617aaN1TZAdOsHEe2OOEAs5nAdb1PxP3oWOhUHDOi/1meEKN9M2D9VBEf7EwgHwFoq9tujpzpASeEspl4fEcBW6FchEzklQA==",
          "dtype": "f8"
         },
         "xaxis": "x2",
         "yaxis": "y2"
        },
        {
         "marker": {
          "color": {
           "bdata": "AAAAAAAA8D8AAAAAAADwPwAAAAAAAPA/AAAAAAAA6D8AAAAAAADwPwAAAAAAAAAAAAAAAAAA4D8AAAAAAADgPwAAAAAAAAAAVVVVVVVV5T9VVVVVVVXVPwAAAAAAANA/AAAAAAAAAAAAAAAAAAAAAAAAAAAAAAAAAAAAAAAAAAAAAAAAAAAAAAAAAAAAAAAAAAAAAAAAAAAAAAAAAAAAAAAAAAAAAPA/AAAAAAAA8D8AAAAAAAAAAAAAAAAAAPA/AAAAAAAAAAAAAAAAAADwPwAAAAAAAAAAVVVVVVVV5T9VVVVVVVXVPwAAAAAAAOg/AAAAAAAA4D8AAAAAAADgPwAAAAAAAAAAAAAAAAAAAAAAAAAAAAAAAAAAAAAAAAAAAAAAAAAAAAAAAAAAAADQPwAAAAAAAAAAAAAAAAAAAAAAAAAAAAAAAAAAAAAAAPA/AAAAAAAAAAAAAAAAAADwPwAAAAAAAPA/VVVVVVVV5T8AAAAAAAAAAFVVVVVVVdU/AAAAAAAA8D8AAAAAAAAAAA==",
           "dtype": "f8"
          },
          "colorbar": {
           "title": {
            "text": "Percentil Estado"
           }
          },
          "colorscale": [
           [
            0,
            "#440154"
           ],
           [
            0.1111111111111111,
            "#482878"
           ],
           [
            0.2222222222222222,
            "#3e4989"
           ],
           [
            0.3333333333333333,
            "#31688e"
           ],
           [
            0.4444444444444444,
            "#26828e"
           ],
           [
            0.5555555555555556,
            "#1f9e89"
           ],
           [
            0.6666666666666666,
            "#35b779"
           ],
           [
            0.7777777777777778,
            "#6ece58"
           ],
           [
            0.8888888888888888,
            "#b5de2b"
           ],
           [
            1,
            "#fde725"
           ]
          ],
          "opacity": 0.7,
          "size": 8
         },
         "mode": "markers",
         "name": "Agências",
         "text": [
          "4522",
          "2199",
          "4123",
          "5981",
          "8316",
          "1257",
          "6319",
          "7273",
          "4415",
          "4593",
          "3913",
          "5430",
          "1714",
          "6840",
          "6187",
          "1971",
          "1722",
          "5772",
          "6891",
          "2515",
          "4522",
          "5981",
          "4415",
          "2199",
          "1257",
          "7273",
          "1714",
          "4593",
          "3913",
          "5430",
          "8316",
          "6319",
          "6891",
          "6187",
          "1971",
          "1722",
          "6840",
          "5772",
          "4123",
          "2515",
          "6187",
          "3913",
          "4415",
          "2199",
          "5430",
          "4522",
          "1714",
          "4593",
          "7273",
          "1257"
         ],
         "type": "scatter",
         "x": {
          "bdata": "bQByAGAAZwBYAFoAWwBcAFIAVQBVAFcAVwBNAEsASABSAEQAOgAxAM8AyQDMANIAwwDJALsAwQCiALUAsQCqAKIAogCzAJEAkACKAIsAgADMAMAAuAC3AMAAuQCqALYAvAC5AA==",
          "dtype": "i2"
         },
         "xaxis": "x3",
         "y": {
          "bdata": "cT0KtzZeVUHD9SgcyQxVQZqZmenm+VJBXI/CdfS+UkEzMzNzyg1SQXE9CvcG+1FBMzMzk+XHUEEfhesxtbFQQdejcC1sflBBcT0KJ4ZaUEGuR+HqdkpQQQrXo7COe09BH4XrkRfUTkEpXI9C5uFMQT0K1yOgG0xBH4XrEVpoS0EpXI9CFbJJQexRuP5U6kZBpHA96h8nRkE9CtfDWx9CQQrXo8hcSmVBzczM3EQzZEEAAADw+7VjQYXrUZhRf2NB4XoUzg0lY0HD9Sh0XitiQVK4Hr3QfWFBhetRkChOYUGamZkJGvdgQbgehSPToWBBH4XrEVMwYEFmZmZ2FCFgQeF6FE5XrF9BAAAAQD6nX0F7FK63giZfQXE9Cref5VxBZmZmNvQ1XEHXo3DdVrJZQRSuR5Fq5lhBKVyPgovGWEFcj8JNN3pjQRSuR9EgN2NBuB6FWyvIYkEzMzPzN3piQeF6FGbMMWJBFK5HgQMeYkGkcD0iLhtiQVK4HsXT7GFBpHA9yjXmYEGamZlJJdNgQQ==",
          "dtype": "f8"
         },
         "yaxis": "y3"
        },
        {
         "marker": {
          "color": "gold"
         },
         "name": "Percentil Médio",
         "opacity": 0.8,
         "type": "bar",
         "x": [
          "RJ",
          "SP",
          "RS",
          "PB",
          "CE",
          "AP",
          "PR",
          "MT",
          "RO",
          "RN"
         ],
         "xaxis": "x4",
         "y": {
          "bdata": "kiRJkiRJ4j900UUXXXThP3TRRRdddOE/AAAAAAAA4D8AAAAAAAAAAAAAAAAAAAAAAAAAAAAAAAAAAAAAAAAAAAAAAAAAAAAAAAAAAAAAAAA=",
          "dtype": "f8"
         },
         "yaxis": "y4"
        }
       ],
       "layout": {
        "annotations": [
         {
          "font": {
           "size": 16
          },
          "showarrow": false,
          "text": "Evolução do Ranking das Top 5 Agências",
          "x": 0.225,
          "xanchor": "center",
          "xref": "paper",
          "y": 1,
          "yanchor": "bottom",
          "yref": "paper"
         },
         {
          "font": {
           "size": 16
          },
          "showarrow": false,
          "text": "Distribuição de Crescimento Mensal",
          "x": 0.775,
          "xanchor": "center",
          "xref": "paper",
          "y": 1,
          "yanchor": "bottom",
          "yref": "paper"
         },
         {
          "font": {
           "size": 16
          },
          "showarrow": false,
          "text": "Correlação: Transações vs Valor",
          "x": 0.225,
          "xanchor": "center",
          "xref": "paper",
          "y": 0.375,
          "yanchor": "bottom",
          "yref": "paper"
         },
         {
          "font": {
           "size": 16
          },
          "showarrow": false,
          "text": "Performance por Estado (Percentil)",
          "x": 0.775,
          "xanchor": "center",
          "xref": "paper",
          "y": 0.375,
          "yanchor": "bottom",
          "yref": "paper"
         }
        ],
        "height": 800,
        "showlegend": true,
        "template": {
         "data": {
          "bar": [
           {
            "error_x": {
             "color": "#2a3f5f"
            },
            "error_y": {
             "color": "#2a3f5f"
            },
            "marker": {
             "line": {
              "color": "#E5ECF6",
              "width": 0.5
             },
             "pattern": {
              "fillmode": "overlay",
              "size": 10,
              "solidity": 0.2
             }
            },
            "type": "bar"
           }
          ],
          "barpolar": [
           {
            "marker": {
             "line": {
              "color": "#E5ECF6",
              "width": 0.5
             },
             "pattern": {
              "fillmode": "overlay",
              "size": 10,
              "solidity": 0.2
             }
            },
            "type": "barpolar"
           }
          ],
          "carpet": [
           {
            "aaxis": {
             "endlinecolor": "#2a3f5f",
             "gridcolor": "white",
             "linecolor": "white",
             "minorgridcolor": "white",
             "startlinecolor": "#2a3f5f"
            },
            "baxis": {
             "endlinecolor": "#2a3f5f",
             "gridcolor": "white",
             "linecolor": "white",
             "minorgridcolor": "white",
             "startlinecolor": "#2a3f5f"
            },
            "type": "carpet"
           }
          ],
          "choropleth": [
           {
            "colorbar": {
             "outlinewidth": 0,
             "ticks": ""
            },
            "type": "choropleth"
           }
          ],
          "contour": [
           {
            "colorbar": {
             "outlinewidth": 0,
             "ticks": ""
            },
            "colorscale": [
             [
              0,
              "#0d0887"
             ],
             [
              0.1111111111111111,
              "#46039f"
             ],
             [
              0.2222222222222222,
              "#7201a8"
             ],
             [
              0.3333333333333333,
              "#9c179e"
             ],
             [
              0.4444444444444444,
              "#bd3786"
             ],
             [
              0.5555555555555556,
              "#d8576b"
             ],
             [
              0.6666666666666666,
              "#ed7953"
             ],
             [
              0.7777777777777778,
              "#fb9f3a"
             ],
             [
              0.8888888888888888,
              "#fdca26"
             ],
             [
              1,
              "#f0f921"
             ]
            ],
            "type": "contour"
           }
          ],
          "contourcarpet": [
           {
            "colorbar": {
             "outlinewidth": 0,
             "ticks": ""
            },
            "type": "contourcarpet"
           }
          ],
          "heatmap": [
           {
            "colorbar": {
             "outlinewidth": 0,
             "ticks": ""
            },
            "colorscale": [
             [
              0,
              "#0d0887"
             ],
             [
              0.1111111111111111,
              "#46039f"
             ],
             [
              0.2222222222222222,
              "#7201a8"
             ],
             [
              0.3333333333333333,
              "#9c179e"
             ],
             [
              0.4444444444444444,
              "#bd3786"
             ],
             [
              0.5555555555555556,
              "#d8576b"
             ],
             [
              0.6666666666666666,
              "#ed7953"
             ],
             [
              0.7777777777777778,
              "#fb9f3a"
             ],
             [
              0.8888888888888888,
              "#fdca26"
             ],
             [
              1,
              "#f0f921"
             ]
            ],
            "type": "heatmap"
           }
          ],
          "histogram": [
           {
            "marker": {
             "pattern": {
              "fillmode": "overlay",
              "size": 10,
              "solidity": 0.2
             }
            },
            "type": "histogram"
           }
          ],
          "histogram2d": [
           {
            "colorbar": {
             "outlinewidth": 0,
             "ticks": ""
            },
            "colorscale": [
             [
              0,
              "#0d0887"
             ],
             [
              0.1111111111111111,
              "#46039f"
             ],
             [
              0.2222222222222222,
              "#7201a8"
             ],
             [
              0.3333333333333333,
              "#9c179e"
             ],
             [
              0.4444444444444444,
              "#bd3786"
             ],
             [
              0.5555555555555556,
              "#d8576b"
             ],
             [
              0.6666666666666666,
              "#ed7953"
             ],
             [
              0.7777777777777778,
              "#fb9f3a"
             ],
             [
              0.8888888888888888,
              "#fdca26"
             ],
             [
              1,
              "#f0f921"
             ]
            ],
            "type": "histogram2d"
           }
          ],
          "histogram2dcontour": [
           {
            "colorbar": {
             "outlinewidth": 0,
             "ticks": ""
            },
            "colorscale": [
             [
              0,
              "#0d0887"
             ],
             [
              0.1111111111111111,
              "#46039f"
             ],
             [
              0.2222222222222222,
              "#7201a8"
             ],
             [
              0.3333333333333333,
              "#9c179e"
             ],
             [
              0.4444444444444444,
              "#bd3786"
             ],
             [
              0.5555555555555556,
              "#d8576b"
             ],
             [
              0.6666666666666666,
              "#ed7953"
             ],
             [
              0.7777777777777778,
              "#fb9f3a"
             ],
             [
              0.8888888888888888,
              "#fdca26"
             ],
             [
              1,
              "#f0f921"
             ]
            ],
            "type": "histogram2dcontour"
           }
          ],
          "mesh3d": [
           {
            "colorbar": {
             "outlinewidth": 0,
             "ticks": ""
            },
            "type": "mesh3d"
           }
          ],
          "parcoords": [
           {
            "line": {
             "colorbar": {
              "outlinewidth": 0,
              "ticks": ""
             }
            },
            "type": "parcoords"
           }
          ],
          "pie": [
           {
            "automargin": true,
            "type": "pie"
           }
          ],
          "scatter": [
           {
            "fillpattern": {
             "fillmode": "overlay",
             "size": 10,
             "solidity": 0.2
            },
            "type": "scatter"
           }
          ],
          "scatter3d": [
           {
            "line": {
             "colorbar": {
              "outlinewidth": 0,
              "ticks": ""
             }
            },
            "marker": {
             "colorbar": {
              "outlinewidth": 0,
              "ticks": ""
             }
            },
            "type": "scatter3d"
           }
          ],
          "scattercarpet": [
           {
            "marker": {
             "colorbar": {
              "outlinewidth": 0,
              "ticks": ""
             }
            },
            "type": "scattercarpet"
           }
          ],
          "scattergeo": [
           {
            "marker": {
             "colorbar": {
              "outlinewidth": 0,
              "ticks": ""
             }
            },
            "type": "scattergeo"
           }
          ],
          "scattergl": [
           {
            "marker": {
             "colorbar": {
              "outlinewidth": 0,
              "ticks": ""
             }
            },
            "type": "scattergl"
           }
          ],
          "scattermap": [
           {
            "marker": {
             "colorbar": {
              "outlinewidth": 0,
              "ticks": ""
             }
            },
            "type": "scattermap"
           }
          ],
          "scattermapbox": [
           {
            "marker": {
             "colorbar": {
              "outlinewidth": 0,
              "ticks": ""
             }
            },
            "type": "scattermapbox"
           }
          ],
          "scatterpolar": [
           {
            "marker": {
             "colorbar": {
              "outlinewidth": 0,
              "ticks": ""
             }
            },
            "type": "scatterpolar"
           }
          ],
          "scatterpolargl": [
           {
            "marker": {
             "colorbar": {
              "outlinewidth": 0,
              "ticks": ""
             }
            },
            "type": "scatterpolargl"
           }
          ],
          "scatterternary": [
           {
            "marker": {
             "colorbar": {
              "outlinewidth": 0,
              "ticks": ""
             }
            },
            "type": "scatterternary"
           }
          ],
          "surface": [
           {
            "colorbar": {
             "outlinewidth": 0,
             "ticks": ""
            },
            "colorscale": [
             [
              0,
              "#0d0887"
             ],
             [
              0.1111111111111111,
              "#46039f"
             ],
             [
              0.2222222222222222,
              "#7201a8"
             ],
             [
              0.3333333333333333,
              "#9c179e"
             ],
             [
              0.4444444444444444,
              "#bd3786"
             ],
             [
              0.5555555555555556,
              "#d8576b"
             ],
             [
              0.6666666666666666,
              "#ed7953"
             ],
             [
              0.7777777777777778,
              "#fb9f3a"
             ],
             [
              0.8888888888888888,
              "#fdca26"
             ],
             [
              1,
              "#f0f921"
             ]
            ],
            "type": "surface"
           }
          ],
          "table": [
           {
            "cells": {
             "fill": {
              "color": "#EBF0F8"
             },
             "line": {
              "color": "white"
             }
            },
            "header": {
             "fill": {
              "color": "#C8D4E3"
             },
             "line": {
              "color": "white"
             }
            },
            "type": "table"
           }
          ]
         },
         "layout": {
          "annotationdefaults": {
           "arrowcolor": "#2a3f5f",
           "arrowhead": 0,
           "arrowwidth": 1
          },
          "autotypenumbers": "strict",
          "coloraxis": {
           "colorbar": {
            "outlinewidth": 0,
            "ticks": ""
           }
          },
          "colorscale": {
           "diverging": [
            [
             0,
             "#8e0152"
            ],
            [
             0.1,
             "#c51b7d"
            ],
            [
             0.2,
             "#de77ae"
            ],
            [
             0.3,
             "#f1b6da"
            ],
            [
             0.4,
             "#fde0ef"
            ],
            [
             0.5,
             "#f7f7f7"
            ],
            [
             0.6,
             "#e6f5d0"
            ],
            [
             0.7,
             "#b8e186"
            ],
            [
             0.8,
             "#7fbc41"
            ],
            [
             0.9,
             "#4d9221"
            ],
            [
             1,
             "#276419"
            ]
           ],
           "sequential": [
            [
             0,
             "#0d0887"
            ],
            [
             0.1111111111111111,
             "#46039f"
            ],
            [
             0.2222222222222222,
             "#7201a8"
            ],
            [
             0.3333333333333333,
             "#9c179e"
            ],
            [
             0.4444444444444444,
             "#bd3786"
            ],
            [
             0.5555555555555556,
             "#d8576b"
            ],
            [
             0.6666666666666666,
             "#ed7953"
            ],
            [
             0.7777777777777778,
             "#fb9f3a"
            ],
            [
             0.8888888888888888,
             "#fdca26"
            ],
            [
             1,
             "#f0f921"
            ]
           ],
           "sequentialminus": [
            [
             0,
             "#0d0887"
            ],
            [
             0.1111111111111111,
             "#46039f"
            ],
            [
             0.2222222222222222,
             "#7201a8"
            ],
            [
             0.3333333333333333,
             "#9c179e"
            ],
            [
             0.4444444444444444,
             "#bd3786"
            ],
            [
             0.5555555555555556,
             "#d8576b"
            ],
            [
             0.6666666666666666,
             "#ed7953"
            ],
            [
             0.7777777777777778,
             "#fb9f3a"
            ],
            [
             0.8888888888888888,
             "#fdca26"
            ],
            [
             1,
             "#f0f921"
            ]
           ]
          },
          "colorway": [
           "#636efa",
           "#EF553B",
           "#00cc96",
           "#ab63fa",
           "#FFA15A",
           "#19d3f3",
           "#FF6692",
           "#B6E880",
           "#FF97FF",
           "#FECB52"
          ],
          "font": {
           "color": "#2a3f5f"
          },
          "geo": {
           "bgcolor": "white",
           "lakecolor": "white",
           "landcolor": "#E5ECF6",
           "showlakes": true,
           "showland": true,
           "subunitcolor": "white"
          },
          "hoverlabel": {
           "align": "left"
          },
          "hovermode": "closest",
          "mapbox": {
           "style": "light"
          },
          "paper_bgcolor": "white",
          "plot_bgcolor": "#E5ECF6",
          "polar": {
           "angularaxis": {
            "gridcolor": "white",
            "linecolor": "white",
            "ticks": ""
           },
           "bgcolor": "#E5ECF6",
           "radialaxis": {
            "gridcolor": "white",
            "linecolor": "white",
            "ticks": ""
           }
          },
          "scene": {
           "xaxis": {
            "backgroundcolor": "#E5ECF6",
            "gridcolor": "white",
            "gridwidth": 2,
            "linecolor": "white",
            "showbackground": true,
            "ticks": "",
            "zerolinecolor": "white"
           },
           "yaxis": {
            "backgroundcolor": "#E5ECF6",
            "gridcolor": "white",
            "gridwidth": 2,
            "linecolor": "white",
            "showbackground": true,
            "ticks": "",
            "zerolinecolor": "white"
           },
           "zaxis": {
            "backgroundcolor": "#E5ECF6",
            "gridcolor": "white",
            "gridwidth": 2,
            "linecolor": "white",
            "showbackground": true,
            "ticks": "",
            "zerolinecolor": "white"
           }
          },
          "shapedefaults": {
           "line": {
            "color": "#2a3f5f"
           }
          },
          "ternary": {
           "aaxis": {
            "gridcolor": "white",
            "linecolor": "white",
            "ticks": ""
           },
           "baxis": {
            "gridcolor": "white",
            "linecolor": "white",
            "ticks": ""
           },
           "bgcolor": "#E5ECF6",
           "caxis": {
            "gridcolor": "white",
            "linecolor": "white",
            "ticks": ""
           }
          },
          "title": {
           "x": 0.05
          },
          "xaxis": {
           "automargin": true,
           "gridcolor": "white",
           "linecolor": "white",
           "ticks": "",
           "title": {
            "standoff": 15
           },
           "zerolinecolor": "white",
           "zerolinewidth": 2
          },
          "yaxis": {
           "automargin": true,
           "gridcolor": "white",
           "linecolor": "white",
           "ticks": "",
           "title": {
            "standoff": 15
           },
           "zerolinecolor": "white",
           "zerolinewidth": 2
          }
         }
        },
        "title": {
         "text": "Análise Temporal Avançada com Window Functions"
        },
        "xaxis": {
         "anchor": "y",
         "domain": [
          0,
          0.45
         ]
        },
        "xaxis2": {
         "anchor": "y2",
         "domain": [
          0.55,
          1
         ]
        },
        "xaxis3": {
         "anchor": "y3",
         "domain": [
          0,
          0.45
         ]
        },
        "xaxis4": {
         "anchor": "y4",
         "domain": [
          0.55,
          1
         ]
        },
        "yaxis": {
         "anchor": "x",
         "autorange": "reversed",
         "domain": [
          0.625,
          1
         ]
        },
        "yaxis2": {
         "anchor": "x2",
         "domain": [
          0.625,
          1
         ]
        },
        "yaxis3": {
         "anchor": "x3",
         "domain": [
          0,
          0.375
         ]
        },
        "yaxis4": {
         "anchor": "x4",
         "domain": [
          0,
          0.375
         ]
        }
       }
      }
     },
     "metadata": {},
     "output_type": "display_data"
    },
    {
     "name": "stdout",
     "output_type": "stream",
     "text": [
      "\n",
      "📊 Insights Avançados:\n",
      "• Líder atual: Agência 4522 (Rocha)\n",
      "• Crescimento médio: -17.82%\n",
      "• Volatilidade (std): 30.93%\n",
      "• Estados top performance: RJ, SP, RS\n",
      "• Total de registros analisados: 50\n"
     ]
    }
   ],
   "source": [
    "# Primeiro, vamos verificar a conectividade com uma consulta simples\n",
    "try:\n",
    "    teste_conexao = pd.read_sql(text(f\"SELECT COUNT(*) as total FROM {TARGET_SCHEMA}.agencia LIMIT 1\"), engine)\n",
    "    print(f\"✅ Conexão OK - Total de agências: {teste_conexao['total'].iloc[0]}\")\n",
    "except Exception as e:\n",
    "    print(f\"❌ Erro de conexão: {e}\")\n",
    "    raise\n",
    "\n",
    "# Consulta 1: Análise temporal de performance com ranking\n",
    "query_1_text = f\"\"\"\n",
    "WITH movimentacao_mensal AS (\n",
    "    SELECT \n",
    "        a.codigo_agencia,\n",
    "        a.nome as nome_agencia,\n",
    "        a.cidade,\n",
    "        a.estado,\n",
    "        DATE_TRUNC('month', t.data_transacao) as mes_ano,\n",
    "        COUNT(t.id_transacao) as total_transacoes,\n",
    "        SUM(t.valor) as valor_total,\n",
    "        AVG(t.valor) as valor_medio\n",
    "    FROM {TARGET_SCHEMA}.agencia a\n",
    "    JOIN {TARGET_SCHEMA}.conta c ON a.codigo_agencia = c.codigo_agencia\n",
    "    JOIN {TARGET_SCHEMA}.transacao_conta t ON c.id_conta = t.id_conta\n",
    "    WHERE t.data_transacao >= '2024-01-01'\n",
    "    GROUP BY a.codigo_agencia, a.nome, a.cidade, a.estado, \n",
    "             DATE_TRUNC('month', t.data_transacao)\n",
    "),\n",
    "ranking_performance AS (\n",
    "    SELECT *,\n",
    "        -- Rankings mensais\n",
    "        RANK() OVER (PARTITION BY mes_ano ORDER BY valor_total DESC) as ranking_valor_mes,\n",
    "        RANK() OVER (PARTITION BY mes_ano ORDER BY total_transacoes DESC) as ranking_transacoes_mes,\n",
    "        \n",
    "        -- Análise temporal com LAG\n",
    "        LAG(valor_total, 1) OVER (PARTITION BY codigo_agencia ORDER BY mes_ano) as valor_mes_anterior,\n",
    "        LAG(total_transacoes, 1) OVER (PARTITION BY codigo_agencia ORDER BY mes_ano) as transacoes_mes_anterior,\n",
    "        \n",
    "        -- Médias móveis (3 meses)\n",
    "        AVG(valor_total) OVER (\n",
    "            PARTITION BY codigo_agencia \n",
    "            ORDER BY mes_ano \n",
    "            ROWS BETWEEN 2 PRECEDING AND CURRENT ROW\n",
    "        ) as media_movel_3m_valor,\n",
    "        \n",
    "        AVG(total_transacoes) OVER (\n",
    "            PARTITION BY codigo_agencia \n",
    "            ORDER BY mes_ano \n",
    "            ROWS BETWEEN 2 PRECEDING AND CURRENT ROW\n",
    "        ) as media_movel_3m_transacoes,\n",
    "        \n",
    "        -- Percentil por estado\n",
    "        PERCENT_RANK() OVER (PARTITION BY estado, mes_ano ORDER BY valor_total) as percentil_estado\n",
    "        \n",
    "    FROM movimentacao_mensal\n",
    "),\n",
    "crescimento_calculado AS (\n",
    "    SELECT *,\n",
    "        CASE \n",
    "            WHEN valor_mes_anterior > 0 THEN \n",
    "                ((valor_total - valor_mes_anterior) / valor_mes_anterior::float) * 100\n",
    "            ELSE NULL \n",
    "        END as crescimento_valor_pct,\n",
    "        \n",
    "        CASE \n",
    "            WHEN transacoes_mes_anterior > 0 THEN \n",
    "                ((total_transacoes - transacoes_mes_anterior) / transacoes_mes_anterior::float) * 100\n",
    "            ELSE NULL \n",
    "        END as crescimento_transacoes_pct\n",
    "        \n",
    "    FROM ranking_performance\n",
    ")\n",
    "SELECT \n",
    "    codigo_agencia,\n",
    "    nome_agencia,\n",
    "    cidade,\n",
    "    estado,\n",
    "    mes_ano,\n",
    "    total_transacoes,\n",
    "    valor_total,\n",
    "    ranking_valor_mes,\n",
    "    ranking_transacoes_mes,\n",
    "    crescimento_valor_pct,\n",
    "    crescimento_transacoes_pct,\n",
    "    media_movel_3m_valor,\n",
    "    percentil_estado,\n",
    "    CASE \n",
    "        WHEN percentil_estado >= 0.8 THEN 'Top 20%'\n",
    "        WHEN percentil_estado >= 0.6 THEN 'Acima da Média'\n",
    "        WHEN percentil_estado >= 0.4 THEN 'Média'\n",
    "        WHEN percentil_estado >= 0.2 THEN 'Abaixo da Média'\n",
    "        ELSE 'Bottom 20%'\n",
    "    END as classificacao_estado\n",
    "FROM crescimento_calculado\n",
    "WHERE mes_ano >= '2024-01-01'\n",
    "ORDER BY mes_ano DESC, ranking_valor_mes\n",
    "LIMIT 50;\n",
    "\"\"\"\n",
    "\n",
    "try:\n",
    "    resultado_1 = pd.read_sql(text(query_1_text), engine)\n",
    "    \n",
    "    print(\"📈 ANÁLISE TEMPORAL DE PERFORMANCE COM RANKING\")\n",
    "    print(\"=\" * 100)\n",
    "    print(f\"{'Agência':<8} {'Cidade':<12} {'Mês':<8} {'Rank Val':<8} {'Crescimento':<11} {'Classificação':<15}\")\n",
    "    print(\"-\" * 100)\n",
    "\n",
    "    for _, row in resultado_1.head(15).iterrows():\n",
    "        mes_str = row['mes_ano'].strftime('%Y-%m') if pd.notna(row['mes_ano']) else 'N/A'\n",
    "        crescimento = f\"{row['crescimento_valor_pct']:.1f}%\" if pd.notna(row['crescimento_valor_pct']) else 'N/A'\n",
    "        \n",
    "        print(f\"{row['codigo_agencia']:<8} {row['cidade'][:11]:<12} {mes_str:<8} \"\n",
    "              f\"{row['ranking_valor_mes']:>6} {crescimento:>10} {row['classificacao_estado']:<15}\")\n",
    "\n",
    "    # Visualizações avançadas\n",
    "    fig = make_subplots(\n",
    "        rows=2, cols=2,\n",
    "        subplot_titles=(\n",
    "            'Evolução do Ranking das Top 5 Agências',\n",
    "            'Distribuição de Crescimento Mensal',\n",
    "            'Correlação: Transações vs Valor',\n",
    "            'Performance por Estado (Percentil)'\n",
    "        ),\n",
    "        specs=[[{\"type\": \"scatter\"}, {\"type\": \"histogram\"}],\n",
    "               [{\"type\": \"scatter\"}, {\"type\": \"bar\"}]]\n",
    "    )\n",
    "\n",
    "    # Gráfico 1: Evolução do ranking\n",
    "    if len(resultado_1) > 0:\n",
    "        top_agencias = resultado_1.groupby('codigo_agencia')['valor_total'].sum().nlargest(5).index\n",
    "        cores = ['red', 'blue', 'green', 'orange', 'purple']\n",
    "\n",
    "        for i, agencia in enumerate(top_agencias):\n",
    "            dados_agencia = resultado_1[resultado_1['codigo_agencia'] == agencia].sort_values('mes_ano')\n",
    "            fig.add_trace(\n",
    "                go.Scatter(\n",
    "                    x=dados_agencia['mes_ano'],\n",
    "                    y=dados_agencia['ranking_valor_mes'],\n",
    "                    mode='lines+markers',\n",
    "                    name=f'Agência {agencia}',\n",
    "                    line=dict(color=cores[i]),\n",
    "                    yaxis='y'\n",
    "                ),\n",
    "                row=1, col=1\n",
    "            )\n",
    "\n",
    "        # Gráfico 2: Distribuição de crescimento\n",
    "        crescimentos_validos = resultado_1['crescimento_valor_pct'].dropna()\n",
    "        if len(crescimentos_validos) > 0:\n",
    "            fig.add_trace(\n",
    "                go.Histogram(\n",
    "                    x=crescimentos_validos,\n",
    "                    nbinsx=20,\n",
    "                    name='Crescimento %',\n",
    "                    marker_color='lightblue',\n",
    "                    opacity=0.7\n",
    "                ),\n",
    "                row=1, col=2\n",
    "            )\n",
    "\n",
    "        # Gráfico 3: Correlação\n",
    "        fig.add_trace(\n",
    "            go.Scatter(\n",
    "                x=resultado_1['total_transacoes'],\n",
    "                y=resultado_1['valor_total'],\n",
    "                mode='markers',\n",
    "                text=resultado_1['codigo_agencia'],\n",
    "                name='Agências',\n",
    "                marker=dict(\n",
    "                    size=8,\n",
    "                    color=resultado_1['percentil_estado'],\n",
    "                    colorscale='Viridis',\n",
    "                    colorbar=dict(title=\"Percentil Estado\"),\n",
    "                    opacity=0.7\n",
    "                )\n",
    "            ),\n",
    "            row=2, col=1\n",
    "        )\n",
    "\n",
    "        # Gráfico 4: Performance por estado\n",
    "        perf_estado = resultado_1.groupby('estado')['percentil_estado'].mean().sort_values(ascending=False).head(10)\n",
    "        fig.add_trace(\n",
    "            go.Bar(\n",
    "                x=perf_estado.index,\n",
    "                y=perf_estado.values,\n",
    "                name='Percentil Médio',\n",
    "                marker_color='gold',\n",
    "                opacity=0.8\n",
    "            ),\n",
    "            row=2, col=2\n",
    "        )\n",
    "\n",
    "        # Inverter eixo Y do ranking (1 = melhor)\n",
    "        fig.update_yaxes(autorange=\"reversed\", row=1, col=1)\n",
    "\n",
    "        fig.update_layout(height=800, showlegend=True, title_text=\"Análise Temporal Avançada com Window Functions\")\n",
    "        fig.show()\n",
    "\n",
    "        # Estatísticas de resumo\n",
    "        print(f\"\\n📊 Insights Avançados:\")\n",
    "        if len(resultado_1[resultado_1['ranking_valor_mes'] == 1]) > 0:\n",
    "            melhor_agencia = resultado_1.loc[resultado_1['ranking_valor_mes'] == 1].iloc[0]\n",
    "            print(f\"• Líder atual: Agência {melhor_agencia['codigo_agencia']} ({melhor_agencia['cidade']})\")\n",
    "        \n",
    "        if len(crescimentos_validos) > 0:\n",
    "            print(f\"• Crescimento médio: {crescimentos_validos.mean():.2f}%\")\n",
    "            print(f\"• Volatilidade (std): {crescimentos_validos.std():.2f}%\")\n",
    "        \n",
    "        print(f\"• Estados top performance: {', '.join(perf_estado.head(3).index)}\")\n",
    "        print(f\"• Total de registros analisados: {len(resultado_1)}\")\n",
    "    else:\n",
    "        print(\"⚠️ Nenhum resultado encontrado na consulta\")\n",
    "\n",
    "except Exception as e:\n",
    "    print(f\"❌ Erro na execução da consulta: {e}\")\n",
    "    import traceback\n",
    "    traceback.print_exc()"
   ]
  },
  {
   "cell_type": "markdown",
   "id": "89780cae",
   "metadata": {},
   "source": [
    "## 🎯 Consulta 2: Análise de Cohort de Clientes com Segmentação Avançada\n",
    "\n",
    "**Objetivo**: Realizar análise de cohort baseada na data de abertura de contas e comportamento subsequente usando window functions."
   ]
  },
  {
   "cell_type": "code",
   "execution_count": 6,
   "id": "0d728397",
   "metadata": {},
   "outputs": [
    {
     "name": "stdout",
     "output_type": "stream",
     "text": [
      "🎯 ANÁLISE DE COHORT COM SEGMENTAÇÃO AVANÇADA\n",
      "========================================================================================================================\n",
      "Cohort   Estágio         Segmento     Geração    Clientes Valor Cum   \n",
      "------------------------------------------------------------------------------------------------------------------------\n",
      "2024-03  Novo (0-3m)     Low Value    Boomer          3     153,146\n",
      "2024-03  Novo (0-3m)     Medium Low   Boomer          3     182,186\n",
      "2024-02  Novo (0-3m)     Low Value    Boomer          4     306,428\n",
      "2024-02  Novo (0-3m)     High Value   Boomer          3     492,747\n",
      "2024-02  Novo (0-3m)     High Value   Boomer          3     618,825\n",
      "2024-01  Novo (0-3m)     Medium       Boomer          3     280,146\n",
      "2023-10  Estabelecido (6-12m) Low Value    Boomer          3     508,994\n",
      "2023-10  Recente (3-6m)  Medium       Boomer          3     430,247\n",
      "2023-09  Recente (3-6m)  Medium       Millennial      3     294,180\n",
      "2023-09  Recente (3-6m)  Medium Low   Millennial      3     155,436\n",
      "2023-07  Estabelecido (6-12m) Low Value    Boomer          3     126,849\n",
      "2023-06  Estabelecido (6-12m) Medium High  Boomer          3     689,707\n",
      "2023-06  Estabelecido (6-12m) Medium Low   Boomer          3     291,596\n",
      "2023-04  Estabelecido (6-12m) High Value   Boomer          3     957,798\n",
      "2023-03  Maduro (12m+)   High Value   Gen X           5   1,151,057\n",
      "2023-03  Estabelecido (6-12m) Low Value    Gen X           3      43,395\n",
      "2023-03  Maduro (12m+)   Medium Low   Gen X           3   1,248,234\n",
      "2023-01  Maduro (12m+)   Low Value    Boomer          3     353,594\n",
      "2023-01  Maduro (12m+)   Medium Low   Boomer          3     367,342\n",
      "2023-01  Maduro (12m+)   Medium Low   Gen X           3     834,557\n"
     ]
    },
    {
     "data": {
      "image/png": "[encoded data removed]",
      "text/plain": [
       "<Figure size 1800x1400 with 5 Axes>"
      ]
     },
     "metadata": {},
     "output_type": "display_data"
    },
    {
     "name": "stdout",
     "output_type": "stream",
     "text": [
      "\n",
      "📊 Análise de Retenção por Cohort:\n",
      "• 2023-01: 100.0% de retenção (9 clientes)\n",
      "• 2023-03: 100.0% de retenção (11 clientes)\n",
      "• 2023-04: 100.0% de retenção (3 clientes)\n",
      "• 2023-06: 100.0% de retenção (6 clientes)\n",
      "• 2023-07: 100.0% de retenção (3 clientes)\n",
      "• 2023-09: 0.0% de retenção (6 clientes)\n",
      "• 2023-10: 50.0% de retenção (6 clientes)\n",
      "• 2024-01: 0.0% de retenção (3 clientes)\n",
      "• 2024-02: 0.0% de retenção (10 clientes)\n",
      "• 2024-03: 0.0% de retenção (6 clientes)\n",
      "\n",
      "🎯 Insights de Cohort:\n",
      "• Segmento mais valioso: High Value\n",
      "• Total de clientes analisados: 63\n",
      "• Cohorts analisados: 10\n",
      "• Total de registros: 20\n"
     ]
    }
   ],
   "source": [
    "# Consulta 2: Análise de cohort de clientes com segmentação avançada\n",
    "query_2 = f\"\"\"\n",
    "WITH clientes_cohort AS (\n",
    "    SELECT \n",
    "        cl.id_cliente,\n",
    "        cl.nome as nome_cliente,\n",
    "        c.data_abertura,\n",
    "        DATE_TRUNC('month', c.data_abertura) as cohort_mes,\n",
    "        EXTRACT(YEAR FROM CURRENT_DATE) - EXTRACT(YEAR FROM cl.data_nascimento) as idade,\n",
    "        a.estado,\n",
    "        a.cidade\n",
    "    FROM {TARGET_SCHEMA}.cliente cl\n",
    "    JOIN {TARGET_SCHEMA}.conta c ON cl.id_cliente = c.id_cliente\n",
    "    JOIN {TARGET_SCHEMA}.agencia a ON c.codigo_agencia = a.codigo_agencia\n",
    "    WHERE c.data_abertura >= '2023-01-01'\n",
    "),\n",
    "atividade_cliente AS (\n",
    "    SELECT \n",
    "        cc.id_cliente,\n",
    "        cc.cohort_mes,\n",
    "        cc.idade,\n",
    "        cc.estado,\n",
    "        DATE_TRUNC('month', t.data_transacao) as mes_atividade,\n",
    "        COUNT(t.id_transacao) as transacoes_mes,\n",
    "        SUM(t.valor) as valor_mes,\n",
    "        AVG(t.valor) as ticket_medio_mes,\n",
    "        -- Número de meses desde a abertura da conta (movido para cá)\n",
    "        EXTRACT(EPOCH FROM (DATE_TRUNC('month', t.data_transacao) - cc.cohort_mes)) / (30.44 * 24 * 3600) as meses_desde_abertura\n",
    "    FROM clientes_cohort cc\n",
    "    JOIN {TARGET_SCHEMA}.conta c ON cc.id_cliente = c.id_cliente\n",
    "    LEFT JOIN {TARGET_SCHEMA}.transacao_conta t ON c.id_conta = t.id_conta\n",
    "    WHERE t.data_transacao >= cc.data_abertura\n",
    "    GROUP BY cc.id_cliente, cc.cohort_mes, cc.idade, cc.estado, \n",
    "             DATE_TRUNC('month', t.data_transacao)\n",
    "),\n",
    "analise_temporal AS (\n",
    "    SELECT *,\n",
    "        -- Ranking de atividade dentro do cohort (agora meses_desde_abertura existe)\n",
    "        RANK() OVER (\n",
    "            PARTITION BY cohort_mes, ROUND(meses_desde_abertura::numeric, 0)\n",
    "            ORDER BY transacoes_mes DESC\n",
    "        ) as ranking_atividade_cohort,\n",
    "        \n",
    "        -- Percentil de valor dentro do cohort\n",
    "        PERCENT_RANK() OVER (\n",
    "            PARTITION BY cohort_mes, ROUND(meses_desde_abertura::numeric, 0)\n",
    "            ORDER BY valor_mes\n",
    "        ) as percentil_valor_cohort,\n",
    "        \n",
    "        -- Valor cumulativo\n",
    "        SUM(valor_mes) OVER (\n",
    "            PARTITION BY id_cliente \n",
    "            ORDER BY mes_atividade \n",
    "            ROWS UNBOUNDED PRECEDING\n",
    "        ) as valor_cumulativo,\n",
    "        \n",
    "        -- Média móvel de atividade (3 meses)\n",
    "        AVG(transacoes_mes) OVER (\n",
    "            PARTITION BY id_cliente \n",
    "            ORDER BY mes_atividade \n",
    "            ROWS BETWEEN 2 PRECEDING AND CURRENT ROW\n",
    "        ) as media_movel_atividade\n",
    "        \n",
    "    FROM atividade_cliente\n",
    "    WHERE mes_atividade IS NOT NULL\n",
    "),\n",
    "segmentacao_final AS (\n",
    "    SELECT *,\n",
    "        CASE \n",
    "            WHEN percentil_valor_cohort >= 0.8 THEN 'High Value'\n",
    "            WHEN percentil_valor_cohort >= 0.6 THEN 'Medium High'\n",
    "            WHEN percentil_valor_cohort >= 0.4 THEN 'Medium'\n",
    "            WHEN percentil_valor_cohort >= 0.2 THEN 'Medium Low'\n",
    "            ELSE 'Low Value'\n",
    "        END as segmento_valor,\n",
    "        \n",
    "        CASE \n",
    "            WHEN idade < 25 THEN 'Gen Z'\n",
    "            WHEN idade < 40 THEN 'Millennial'\n",
    "            WHEN idade < 55 THEN 'Gen X'\n",
    "            ELSE 'Boomer'\n",
    "        END as geracao,\n",
    "        \n",
    "        CASE \n",
    "            WHEN meses_desde_abertura <= 3 THEN 'Novo (0-3m)'\n",
    "            WHEN meses_desde_abertura <= 6 THEN 'Recente (3-6m)'\n",
    "            WHEN meses_desde_abertura <= 12 THEN 'Estabelecido (6-12m)'\n",
    "            ELSE 'Maduro (12m+)'\n",
    "        END as estagio_cliente\n",
    "        \n",
    "    FROM analise_temporal\n",
    ")\n",
    "SELECT \n",
    "    cohort_mes,\n",
    "    estagio_cliente,\n",
    "    segmento_valor,\n",
    "    geracao,\n",
    "    estado,\n",
    "    COUNT(DISTINCT id_cliente) as clientes_unicos,\n",
    "    AVG(transacoes_mes) as media_transacoes,\n",
    "    AVG(valor_mes) as media_valor_mes,\n",
    "    AVG(valor_cumulativo) as media_valor_cumulativo,\n",
    "    AVG(ticket_medio_mes) as ticket_medio,\n",
    "    STDDEV(transacoes_mes) as volatilidade_atividade\n",
    "FROM segmentacao_final\n",
    "GROUP BY cohort_mes, estagio_cliente, segmento_valor, geracao, estado\n",
    "HAVING COUNT(DISTINCT id_cliente) >= 3\n",
    "ORDER BY cohort_mes DESC, clientes_unicos DESC\n",
    "LIMIT 40;\n",
    "\"\"\"\n",
    "\n",
    "try:\n",
    "    resultado_2 = pd.read_sql(text(query_2), engine)\n",
    "\n",
    "    print(\"🎯 ANÁLISE DE COHORT COM SEGMENTAÇÃO AVANÇADA\")\n",
    "    print(\"=\" * 120)\n",
    "    print(f\"{'Cohort':<8} {'Estágio':<15} {'Segmento':<12} {'Geração':<10} {'Clientes':<8} {'Valor Cum':<12}\")\n",
    "    print(\"-\" * 120)\n",
    "\n",
    "    for _, row in resultado_2.head(20).iterrows():\n",
    "        cohort_str = row['cohort_mes'].strftime('%Y-%m') if pd.notna(row['cohort_mes']) else 'N/A'\n",
    "        \n",
    "        print(f\"{cohort_str:<8} {row['estagio_cliente']:<15} {row['segmento_valor']:<12} \"\n",
    "              f\"{row['geracao']:<10} {row['clientes_unicos']:>6} \"\n",
    "              f\"{row['media_valor_cumulativo']:>11,.0f}\")\n",
    "\n",
    "    # Visualizações de cohort (versão simplificada para evitar erros)\n",
    "    if len(resultado_2) > 0:\n",
    "        fig, ((ax1, ax2), (ax3, ax4)) = plt.subplots(2, 2, figsize=(18, 14))\n",
    "\n",
    "        # Gráfico 1: Heatmap de cohort por segmento\n",
    "        cohort_segmento = resultado_2.pivot_table(\n",
    "            index='cohort_mes', \n",
    "            columns='segmento_valor', \n",
    "            values='clientes_unicos', \n",
    "            fill_value=0\n",
    "        )\n",
    "        sns.heatmap(cohort_segmento, annot=True, fmt='.0f', cmap='Blues', ax=ax1)\n",
    "        ax1.set_title('Distribuição de Clientes por Cohort e Segmento', fontweight='bold')\n",
    "        ax1.set_xlabel('Segmento de Valor')\n",
    "        ax1.set_ylabel('Mês de Cohort')\n",
    "\n",
    "        # Gráfico 2: Evolução do valor cumulativo por geração\n",
    "        evolucao_geracao = resultado_2.groupby(['estagio_cliente', 'geracao'])['media_valor_cumulativo'].mean().unstack(fill_value=0)\n",
    "        evolucao_geracao.plot(kind='bar', ax=ax2, rot=45)\n",
    "        ax2.set_title('Valor Cumulativo Médio por Estágio e Geração', fontweight='bold')\n",
    "        ax2.set_xlabel('Estágio do Cliente')\n",
    "        ax2.set_ylabel('Valor Cumulativo Médio (R$)')\n",
    "        ax2.legend(title='Geração', bbox_to_anchor=(1.05, 1), loc='upper left')\n",
    "\n",
    "        # Gráfico 3: Distribuição de clientes por estado e segmento\n",
    "        top_estados = resultado_2.groupby('estado')['clientes_unicos'].sum().nlargest(8).index\n",
    "        estado_segmento = resultado_2[resultado_2['estado'].isin(top_estados)].pivot_table(\n",
    "            index='estado', \n",
    "            columns='segmento_valor', \n",
    "            values='clientes_unicos', \n",
    "            fill_value=0\n",
    "        )\n",
    "        estado_segmento.plot(kind='bar', stacked=True, ax=ax3, colormap='viridis')\n",
    "        ax3.set_title('Distribuição de Segmentos por Estado (Top 8)', fontweight='bold')\n",
    "        ax3.set_xlabel('Estado')\n",
    "        ax3.set_ylabel('Número de Clientes')\n",
    "        ax3.legend(title='Segmento', bbox_to_anchor=(1.05, 1), loc='upper left')\n",
    "        ax3.tick_params(axis='x', rotation=45)\n",
    "\n",
    "        # Gráfico 4: Scatter plot: Atividade vs Valor\n",
    "        scatter_data = resultado_2.groupby('segmento_valor').agg({\n",
    "            'media_transacoes': 'mean',\n",
    "            'media_valor_mes': 'mean',\n",
    "            'clientes_unicos': 'sum'\n",
    "        }).reset_index()\n",
    "\n",
    "        scatter = ax4.scatter(\n",
    "            scatter_data['media_transacoes'], \n",
    "            scatter_data['media_valor_mes'],\n",
    "            s=scatter_data['clientes_unicos'] * 2,\n",
    "            alpha=0.7,\n",
    "            c=range(len(scatter_data)),\n",
    "            cmap='viridis'\n",
    "        )\n",
    "\n",
    "        for i, row in scatter_data.iterrows():\n",
    "            ax4.annotate(\n",
    "                row['segmento_valor'],\n",
    "                (row['media_transacoes'], row['media_valor_mes']),\n",
    "                xytext=(5, 5),\n",
    "                textcoords='offset points',\n",
    "                fontsize=9\n",
    "            )\n",
    "\n",
    "        ax4.set_title('Relação: Atividade vs Valor por Segmento', fontweight='bold')\n",
    "        ax4.set_xlabel('Transações Médias por Mês')\n",
    "        ax4.set_ylabel('Valor Médio por Mês (R$)')\n",
    "        ax4.grid(True, alpha=0.3)\n",
    "\n",
    "        plt.tight_layout()\n",
    "        plt.show()\n",
    "\n",
    "        # Análise de retenção por cohort\n",
    "        retencao_cohort = resultado_2.groupby(['cohort_mes', 'estagio_cliente'])['clientes_unicos'].sum().unstack(fill_value=0)\n",
    "        print(f\"\\n📊 Análise de Retenção por Cohort:\")\n",
    "        for cohort in retencao_cohort.index:\n",
    "            total_inicial = retencao_cohort.loc[cohort].sum()\n",
    "            estabelecidos = retencao_cohort.loc[cohort, 'Estabelecido (6-12m)'] if 'Estabelecido (6-12m)' in retencao_cohort.columns else 0\n",
    "            maduros = retencao_cohort.loc[cohort, 'Maduro (12m+)'] if 'Maduro (12m+)' in retencao_cohort.columns else 0\n",
    "            \n",
    "            if total_inicial > 0:\n",
    "                taxa_retencao = ((estabelecidos + maduros) / total_inicial) * 100\n",
    "                print(f\"• {cohort.strftime('%Y-%m')}: {taxa_retencao:.1f}% de retenção ({total_inicial} clientes)\")\n",
    "\n",
    "        print(f\"\\n🎯 Insights de Cohort:\")\n",
    "        if len(scatter_data) > 0:\n",
    "            melhor_segmento = scatter_data.loc[scatter_data['media_valor_mes'].idxmax(), 'segmento_valor']\n",
    "            print(f\"• Segmento mais valioso: {melhor_segmento}\")\n",
    "        print(f\"• Total de clientes analisados: {resultado_2['clientes_unicos'].sum():,}\")\n",
    "        print(f\"• Cohorts analisados: {resultado_2['cohort_mes'].nunique()}\")\n",
    "        print(f\"• Total de registros: {len(resultado_2)}\")\n",
    "    else:\n",
    "        print(\"⚠️ Nenhum resultado encontrado na consulta\")\n",
    "\n",
    "except Exception as e:\n",
    "    print(f\"❌ Erro na execução da consulta: {e}\")\n",
    "    import traceback\n",
    "    traceback.print_exc()"
   ]
  },
  {
   "cell_type": "markdown",
   "id": "97041530",
   "metadata": {},
   "source": [
    "## 🔍 Consulta 3: Detecção de Padrões Anômalos e Análise Preditiva\n",
    "\n",
    "**Objetivo**: Identificar padrões anômalos de transações e comportamentos atípicos usando window functions estatísticas."
   ]
  },
  {
   "cell_type": "code",
   "execution_count": 8,
   "id": "feaed4ce",
   "metadata": {},
   "outputs": [
    {
     "name": "stdout",
     "output_type": "stream",
     "text": [
      "🔍 DETECÇÃO DE PADRÕES ANÔMALOS E ANÁLISE PREDITIVA\n",
      "==============================================================================================================\n",
      "Cliente  Nome                 UF  Semana      Z-Score  Risco        Rank  \n",
      "--------------------------------------------------------------------------------------------------------------\n",
      "115      Rebeca Correia       SP  2024-01-15  1765.82 Alto Risco      1\n",
      "820      Alícia Sales         SP  2024-02-19   643.10 Alto Risco      2\n",
      "826      André Mendes         CE  2024-01-29   265.30 Alto Risco      3\n",
      "264      Melina Sousa         RS  2024-01-29  -226.15 Alto Risco      4\n",
      "408      Juliana da Costa     SP  2024-01-29  -223.19 Alto Risco      5\n",
      "150      Luana Aparecida      RS  2024-01-22   215.97 Alto Risco      6\n",
      "584      Sr. Lorenzo da Roch  PR  2024-01-22   138.15 Alto Risco      7\n",
      "486      Pedro Henrique Siqu  AP  2024-02-12   126.70 Alto Risco      8\n",
      "976      Sophie da Mota       RS  2024-01-15   125.14 Alto Risco      9\n",
      "468      Juliana Sales        PR  2024-02-05   105.69 Alto Risco     10\n",
      "57       Dra. Heloisa Rios    SP  2024-01-29   101.79 Alto Risco     11\n",
      "880      Igor Campos          SP  2024-02-19    82.21 Alto Risco     12\n",
      "989      Anna Liz Moura       PB  2024-01-29    73.30 Alto Risco     13\n",
      "628      Isabelly Mendes      RS  2024-02-12    67.16 Alto Risco     14\n",
      "375      Caroline Fernandes   SP  2024-01-22    66.74 Alto Risco     15\n",
      "300      Maria Eduarda Barbo  RS  2024-02-12    58.53 Alto Risco     16\n",
      "80       Felipe Nunes         RJ  2024-02-19    50.27 Alto Risco     17\n",
      "891      Benicio Costela      RJ  2024-01-29    49.68 Alto Risco     18\n",
      "755      Srta. Mirella Caval  RS  2024-01-29    49.16 Alto Risco     19\n",
      "600      Raquel Dias          PB  2024-01-15    47.18 Alto Risco     20\n"
     ]
    },
    {
     "data": {
      "application/vnd.plotly.v1+json": {
       "config": {
        "plotlyServerURL": "https://plot.ly"
       },
       "data": [
        {
         "marker": {
          "color": "red"
         },
         "name": "Z-Score Valor",
         "nbinsx": 25,
         "opacity": 0.7,
         "type": "histogram",
         "x": {
          "bdata": "CeU+tUKXm0ATy4VpxBiEQO23Q5LWlHBAsoHkBtNEbMCtM3RrHOZrwKH8EbYK/2pAy8sSrqtEYUDVKsNq7qxfQMK2KZThSF9Ao8b/i2JsWkDHtyO5THJZQC1p9mVbjVRAfsHYw1FTUkCSijMzZspQQABB55Ntr1BA/NgelNBDTUAlo8vjKCJJQGZ6x4h710hA4MNf8POTSEBykBlTkJZHQNSAO93OzUZA0hIjRGdJRsDXhLbbR5xGwDXKDfqugEVAqUc8LMPeQ8D0qBfP/ZdBQBnZSWKRfkHAEP5CvI40QUBM6gGYhp9AwAR4LJQfbEBA",
          "dtype": "f8"
         },
         "xaxis": "x",
         "yaxis": "y"
        },
        {
         "boxpoints": "outliers",
         "name": "Alto Risco",
         "type": "box",
         "xaxis": "x2",
         "y": {
          "bdata": "DOhBuEWYi0DBBFtviRl0QE5cYb3mmmBAyZiQq+lSXEB6AEE4aeZbQNEYjSg4BFtAVladODZPUUCpMf3XjsBPQBn2ET2iYE9AJ1h2OKOESkAtHoofs4JJQL0P1KQYokRAxVzQ7X9sQkB6EJIb7NhAQPEpfGFcw0BAQZCm+NerPUCQbWaWz045QJmt+ruuCjlAUQFqx5fEOEC9Pe6dPas3QAe0bhACATdA3s7+N+77NkCkUYOoFJ02QAQ/zz1QpzVA8cglp0k0NEAviGdclcYxQCjD6nB7fzFApDwsUM1dMUD5mYPLTrEwQLMm20LOmjBA",
          "dtype": "f8"
         },
         "yaxis": "y2"
        },
        {
         "line": {
          "width": 2
         },
         "mode": "lines+markers",
         "name": "Alto Risco",
         "type": "scatter",
         "x": [
          "2024-01-08T00:00:00.000000000",
          "2024-01-15T00:00:00.000000000",
          "2024-01-22T00:00:00.000000000",
          "2024-01-29T00:00:00.000000000",
          "2024-02-05T00:00:00.000000000",
          "2024-02-12T00:00:00.000000000",
          "2024-02-19T00:00:00.000000000",
          "2024-02-26T00:00:00.000000000"
         ],
         "xaxis": "x3",
         "y": {
          "bdata": "AgQDCAMFBAE=",
          "dtype": "i1"
         },
         "yaxis": "y3"
        },
        {
         "marker": {
          "color": "orange"
         },
         "name": "Total Anomalias",
         "opacity": 0.8,
         "type": "bar",
         "x": [
          "SP",
          "RS",
          "RJ",
          "PB",
          "CE",
          "PR",
          "AP"
         ],
         "xaxis": "x4",
         "y": {
          "bdata": "CQkEAwICAQ==",
          "dtype": "i1"
         },
         "yaxis": "y4"
        }
       ],
       "layout": {
        "annotations": [
         {
          "font": {
           "size": 16
          },
          "showarrow": false,
          "text": "Distribuição de Z-Scores",
          "x": 0.225,
          "xanchor": "center",
          "xref": "paper",
          "y": 1,
          "yanchor": "bottom",
          "yref": "paper"
         },
         {
          "font": {
           "size": 16
          },
          "showarrow": false,
          "text": "Score de Risco por Nível de Anomalia",
          "x": 0.775,
          "xanchor": "center",
          "xref": "paper",
          "y": 1,
          "yanchor": "bottom",
          "yref": "paper"
         },
         {
          "font": {
           "size": 16
          },
          "showarrow": false,
          "text": "Evolução Temporal dos Riscos",
          "x": 0.225,
          "xanchor": "center",
          "xref": "paper",
          "y": 0.375,
          "yanchor": "bottom",
          "yref": "paper"
         },
         {
          "font": {
           "size": 16
          },
          "showarrow": false,
          "text": "Estados vs Níveis de Risco",
          "x": 0.775,
          "xanchor": "center",
          "xref": "paper",
          "y": 0.375,
          "yanchor": "bottom",
          "yref": "paper"
         }
        ],
        "height": 900,
        "showlegend": true,
        "template": {
         "data": {
          "bar": [
           {
            "error_x": {
             "color": "#2a3f5f"
            },
            "error_y": {
             "color": "#2a3f5f"
            },
            "marker": {
             "line": {
              "color": "#E5ECF6",
              "width": 0.5
             },
             "pattern": {
              "fillmode": "overlay",
              "size": 10,
              "solidity": 0.2
             }
            },
            "type": "bar"
           }
          ],
          "barpolar": [
           {
            "marker": {
             "line": {
              "color": "#E5ECF6",
              "width": 0.5
             },
             "pattern": {
              "fillmode": "overlay",
              "size": 10,
              "solidity": 0.2
             }
            },
            "type": "barpolar"
           }
          ],
          "carpet": [
           {
            "aaxis": {
             "endlinecolor": "#2a3f5f",
             "gridcolor": "white",
             "linecolor": "white",
             "minorgridcolor": "white",
             "startlinecolor": "#2a3f5f"
            },
            "baxis": {
             "endlinecolor": "#2a3f5f",
             "gridcolor": "white",
             "linecolor": "white",
             "minorgridcolor": "white",
             "startlinecolor": "#2a3f5f"
            },
            "type": "carpet"
           }
          ],
          "choropleth": [
           {
            "colorbar": {
             "outlinewidth": 0,
             "ticks": ""
            },
            "type": "choropleth"
           }
          ],
          "contour": [
           {
            "colorbar": {
             "outlinewidth": 0,
             "ticks": ""
            },
            "colorscale": [
             [
              0,
              "#0d0887"
             ],
             [
              0.1111111111111111,
              "#46039f"
             ],
             [
              0.2222222222222222,
              "#7201a8"
             ],
             [
              0.3333333333333333,
              "#9c179e"
             ],
             [
              0.4444444444444444,
              "#bd3786"
             ],
             [
              0.5555555555555556,
              "#d8576b"
             ],
             [
              0.6666666666666666,
              "#ed7953"
             ],
             [
              0.7777777777777778,
              "#fb9f3a"
             ],
             [
              0.8888888888888888,
              "#fdca26"
             ],
             [
              1,
              "#f0f921"
             ]
            ],
            "type": "contour"
           }
          ],
          "contourcarpet": [
           {
            "colorbar": {
             "outlinewidth": 0,
             "ticks": ""
            },
            "type": "contourcarpet"
           }
          ],
          "heatmap": [
           {
            "colorbar": {
             "outlinewidth": 0,
             "ticks": ""
            },
            "colorscale": [
             [
              0,
              "#0d0887"
             ],
             [
              0.1111111111111111,
              "#46039f"
             ],
             [
              0.2222222222222222,
              "#7201a8"
             ],
             [
              0.3333333333333333,
              "#9c179e"
             ],
             [
              0.4444444444444444,
              "#bd3786"
             ],
             [
              0.5555555555555556,
              "#d8576b"
             ],
             [
              0.6666666666666666,
              "#ed7953"
             ],
             [
              0.7777777777777778,
              "#fb9f3a"
             ],
             [
              0.8888888888888888,
              "#fdca26"
             ],
             [
              1,
              "#f0f921"
             ]
            ],
            "type": "heatmap"
           }
          ],
          "histogram": [
           {
            "marker": {
             "pattern": {
              "fillmode": "overlay",
              "size": 10,
              "solidity": 0.2
             }
            },
            "type": "histogram"
           }
          ],
          "histogram2d": [
           {
            "colorbar": {
             "outlinewidth": 0,
             "ticks": ""
            },
            "colorscale": [
             [
              0,
              "#0d0887"
             ],
             [
              0.1111111111111111,
              "#46039f"
             ],
             [
              0.2222222222222222,
              "#7201a8"
             ],
             [
              0.3333333333333333,
              "#9c179e"
             ],
             [
              0.4444444444444444,
              "#bd3786"
             ],
             [
              0.5555555555555556,
              "#d8576b"
             ],
             [
              0.6666666666666666,
              "#ed7953"
             ],
             [
              0.7777777777777778,
              "#fb9f3a"
             ],
             [
              0.8888888888888888,
              "#fdca26"
             ],
             [
              1,
              "#f0f921"
             ]
            ],
            "type": "histogram2d"
           }
          ],
          "histogram2dcontour": [
           {
            "colorbar": {
             "outlinewidth": 0,
             "ticks": ""
            },
            "colorscale": [
             [
              0,
              "#0d0887"
             ],
             [
              0.1111111111111111,
              "#46039f"
             ],
             [
              0.2222222222222222,
              "#7201a8"
             ],
             [
              0.3333333333333333,
              "#9c179e"
             ],
             [
              0.4444444444444444,
              "#bd3786"
             ],
             [
              0.5555555555555556,
              "#d8576b"
             ],
             [
              0.6666666666666666,
              "#ed7953"
             ],
             [
              0.7777777777777778,
              "#fb9f3a"
             ],
             [
              0.8888888888888888,
              "#fdca26"
             ],
             [
              1,
              "#f0f921"
             ]
            ],
            "type": "histogram2dcontour"
           }
          ],
          "mesh3d": [
           {
            "colorbar": {
             "outlinewidth": 0,
             "ticks": ""
            },
            "type": "mesh3d"
           }
          ],
          "parcoords": [
           {
            "line": {
             "colorbar": {
              "outlinewidth": 0,
              "ticks": ""
             }
            },
            "type": "parcoords"
           }
          ],
          "pie": [
           {
            "automargin": true,
            "type": "pie"
           }
          ],
          "scatter": [
           {
            "fillpattern": {
             "fillmode": "overlay",
             "size": 10,
             "solidity": 0.2
            },
            "type": "scatter"
           }
          ],
          "scatter3d": [
           {
            "line": {
             "colorbar": {
              "outlinewidth": 0,
              "ticks": ""
             }
            },
            "marker": {
             "colorbar": {
              "outlinewidth": 0,
              "ticks": ""
             }
            },
            "type": "scatter3d"
           }
          ],
          "scattercarpet": [
           {
            "marker": {
             "colorbar": {
              "outlinewidth": 0,
              "ticks": ""
             }
            },
            "type": "scattercarpet"
           }
          ],
          "scattergeo": [
           {
            "marker": {
             "colorbar": {
              "outlinewidth": 0,
              "ticks": ""
             }
            },
            "type": "scattergeo"
           }
          ],
          "scattergl": [
           {
            "marker": {
             "colorbar": {
              "outlinewidth": 0,
              "ticks": ""
             }
            },
            "type": "scattergl"
           }
          ],
          "scattermap": [
           {
            "marker": {
             "colorbar": {
              "outlinewidth": 0,
              "ticks": ""
             }
            },
            "type": "scattermap"
           }
          ],
          "scattermapbox": [
           {
            "marker": {
             "colorbar": {
              "outlinewidth": 0,
              "ticks": ""
             }
            },
            "type": "scattermapbox"
           }
          ],
          "scatterpolar": [
           {
            "marker": {
             "colorbar": {
              "outlinewidth": 0,
              "ticks": ""
             }
            },
            "type": "scatterpolar"
           }
          ],
          "scatterpolargl": [
           {
            "marker": {
             "colorbar": {
              "outlinewidth": 0,
              "ticks": ""
             }
            },
            "type": "scatterpolargl"
           }
          ],
          "scatterternary": [
           {
            "marker": {
             "colorbar": {
              "outlinewidth": 0,
              "ticks": ""
             }
            },
            "type": "scatterternary"
           }
          ],
          "surface": [
           {
            "colorbar": {
             "outlinewidth": 0,
             "ticks": ""
            },
            "colorscale": [
             [
              0,
              "#0d0887"
             ],
             [
              0.1111111111111111,
              "#46039f"
             ],
             [
              0.2222222222222222,
              "#7201a8"
             ],
             [
              0.3333333333333333,
              "#9c179e"
             ],
             [
              0.4444444444444444,
              "#bd3786"
             ],
             [
              0.5555555555555556,
              "#d8576b"
             ],
             [
              0.6666666666666666,
              "#ed7953"
             ],
             [
              0.7777777777777778,
              "#fb9f3a"
             ],
             [
              0.8888888888888888,
              "#fdca26"
             ],
             [
              1,
              "#f0f921"
             ]
            ],
            "type": "surface"
           }
          ],
          "table": [
           {
            "cells": {
             "fill": {
              "color": "#EBF0F8"
             },
             "line": {
              "color": "white"
             }
            },
            "header": {
             "fill": {
              "color": "#C8D4E3"
             },
             "line": {
              "color": "white"
             }
            },
            "type": "table"
           }
          ]
         },
         "layout": {
          "annotationdefaults": {
           "arrowcolor": "#2a3f5f",
           "arrowhead": 0,
           "arrowwidth": 1
          },
          "autotypenumbers": "strict",
          "coloraxis": {
           "colorbar": {
            "outlinewidth": 0,
            "ticks": ""
           }
          },
          "colorscale": {
           "diverging": [
            [
             0,
             "#8e0152"
            ],
            [
             0.1,
             "#c51b7d"
            ],
            [
             0.2,
             "#de77ae"
            ],
            [
             0.3,
             "#f1b6da"
            ],
            [
             0.4,
             "#fde0ef"
            ],
            [
             0.5,
             "#f7f7f7"
            ],
            [
             0.6,
             "#e6f5d0"
            ],
            [
             0.7,
             "#b8e186"
            ],
            [
             0.8,
             "#7fbc41"
            ],
            [
             0.9,
             "#4d9221"
            ],
            [
             1,
             "#276419"
            ]
           ],
           "sequential": [
            [
             0,
             "#0d0887"
            ],
            [
             0.1111111111111111,
             "#46039f"
            ],
            [
             0.2222222222222222,
             "#7201a8"
            ],
            [
             0.3333333333333333,
             "#9c179e"
            ],
            [
             0.4444444444444444,
             "#bd3786"
            ],
            [
             0.5555555555555556,
             "#d8576b"
            ],
            [
             0.6666666666666666,
             "#ed7953"
            ],
            [
             0.7777777777777778,
             "#fb9f3a"
            ],
            [
             0.8888888888888888,
             "#fdca26"
            ],
            [
             1,
             "#f0f921"
            ]
           ],
           "sequentialminus": [
            [
             0,
             "#0d0887"
            ],
            [
             0.1111111111111111,
             "#46039f"
            ],
            [
             0.2222222222222222,
             "#7201a8"
            ],
            [
             0.3333333333333333,
             "#9c179e"
            ],
            [
             0.4444444444444444,
             "#bd3786"
            ],
            [
             0.5555555555555556,
             "#d8576b"
            ],
            [
             0.6666666666666666,
             "#ed7953"
            ],
            [
             0.7777777777777778,
             "#fb9f3a"
            ],
            [
             0.8888888888888888,
             "#fdca26"
            ],
            [
             1,
             "#f0f921"
            ]
           ]
          },
          "colorway": [
           "#636efa",
           "#EF553B",
           "#00cc96",
           "#ab63fa",
           "#FFA15A",
           "#19d3f3",
           "#FF6692",
           "#B6E880",
           "#FF97FF",
           "#FECB52"
          ],
          "font": {
           "color": "#2a3f5f"
          },
          "geo": {
           "bgcolor": "white",
           "lakecolor": "white",
           "landcolor": "#E5ECF6",
           "showlakes": true,
           "showland": true,
           "subunitcolor": "white"
          },
          "hoverlabel": {
           "align": "left"
          },
          "hovermode": "closest",
          "mapbox": {
           "style": "light"
          },
          "paper_bgcolor": "white",
          "plot_bgcolor": "#E5ECF6",
          "polar": {
           "angularaxis": {
            "gridcolor": "white",
            "linecolor": "white",
            "ticks": ""
           },
           "bgcolor": "#E5ECF6",
           "radialaxis": {
            "gridcolor": "white",
            "linecolor": "white",
            "ticks": ""
           }
          },
          "scene": {
           "xaxis": {
            "backgroundcolor": "#E5ECF6",
            "gridcolor": "white",
            "gridwidth": 2,
            "linecolor": "white",
            "showbackground": true,
            "ticks": "",
            "zerolinecolor": "white"
           },
           "yaxis": {
            "backgroundcolor": "#E5ECF6",
            "gridcolor": "white",
            "gridwidth": 2,
            "linecolor": "white",
            "showbackground": true,
            "ticks": "",
            "zerolinecolor": "white"
           },
           "zaxis": {
            "backgroundcolor": "#E5ECF6",
            "gridcolor": "white",
            "gridwidth": 2,
            "linecolor": "white",
            "showbackground": true,
            "ticks": "",
            "zerolinecolor": "white"
           }
          },
          "shapedefaults": {
           "line": {
            "color": "#2a3f5f"
           }
          },
          "ternary": {
           "aaxis": {
            "gridcolor": "white",
            "linecolor": "white",
            "ticks": ""
           },
           "baxis": {
            "gridcolor": "white",
            "linecolor": "white",
            "ticks": ""
           },
           "bgcolor": "#E5ECF6",
           "caxis": {
            "gridcolor": "white",
            "linecolor": "white",
            "ticks": ""
           }
          },
          "title": {
           "x": 0.05
          },
          "xaxis": {
           "automargin": true,
           "gridcolor": "white",
           "linecolor": "white",
           "ticks": "",
           "title": {
            "standoff": 15
           },
           "zerolinecolor": "white",
           "zerolinewidth": 2
          },
          "yaxis": {
           "automargin": true,
           "gridcolor": "white",
           "linecolor": "white",
           "ticks": "",
           "title": {
            "standoff": 15
           },
           "zerolinecolor": "white",
           "zerolinewidth": 2
          }
         }
        },
        "title": {
         "text": "Análise de Detecção de Anomalias (Simplificada)"
        },
        "xaxis": {
         "anchor": "y",
         "domain": [
          0,
          0.45
         ]
        },
        "xaxis2": {
         "anchor": "y2",
         "domain": [
          0.55,
          1
         ]
        },
        "xaxis3": {
         "anchor": "y3",
         "domain": [
          0,
          0.45
         ]
        },
        "xaxis4": {
         "anchor": "y4",
         "domain": [
          0.55,
          1
         ]
        },
        "yaxis": {
         "anchor": "x",
         "domain": [
          0.625,
          1
         ]
        },
        "yaxis2": {
         "anchor": "x2",
         "domain": [
          0.625,
          1
         ]
        },
        "yaxis3": {
         "anchor": "x3",
         "domain": [
          0,
          0.375
         ]
        },
        "yaxis4": {
         "anchor": "x4",
         "domain": [
          0,
          0.375
         ]
        }
       }
      }
     },
     "metadata": {},
     "output_type": "display_data"
    },
    {
     "name": "stdout",
     "output_type": "stream",
     "text": [
      "\n",
      "🚨 Estatísticas de Anomalias:\n",
      "• Alto Risco: 30 casos (100.0%) - Score médio: 81.34\n",
      "\n",
      "⚠️ Top 5 Clientes de Alto Risco:\n",
      "• Cliente 115: Score 883.03 - Alto Risco\n",
      "• Cliente 820: Score 321.60 - Alto Risco\n",
      "• Cliente 826: Score 132.84 - Alto Risco\n",
      "• Cliente 264: Score 113.30 - Alto Risco\n",
      "• Cliente 408: Score 111.60 - Alto Risco\n",
      "\n",
      "📊 Insights de Detecção:\n",
      "• Total de anomalias detectadas: 30\n",
      "• Estados com mais anomalias: SP, RS, RJ\n",
      "• Volatilidades encontradas: Estável, Baixa Volatilidade\n",
      "\n",
      "🎉 Todas as análises complexas foram concluídas!\n",
      "📊 Sistema completo de análise bancária implementado com sucesso!\n",
      "\n",
      "🔗 Notebooks criados:\n",
      "  1. 05_analytics_simple.ipynb - Consultas básicas\n",
      "  2. 06_analytics_intermediate.ipynb - Consultas com JOINs\n",
      "  3. 07_analytics_complex.ipynb - Consultas com Window Functions\n"
     ]
    }
   ],
   "source": [
    "# Consulta 3: Detecção de padrões anômalos (versão simplificada)\n",
    "query_3 = f\"\"\"\n",
    "WITH perfil_base_cliente AS (\n",
    "    SELECT \n",
    "        cl.id_cliente,\n",
    "        cl.nome as nome_cliente,\n",
    "        cl.cpf,\n",
    "        a.estado,\n",
    "        c.id_conta,\n",
    "        DATE_TRUNC('week', t.data_transacao) as semana,\n",
    "        COUNT(t.id_transacao) as transacoes_semana,\n",
    "        SUM(t.valor) as valor_semana,\n",
    "        AVG(t.valor) as ticket_medio_semana,\n",
    "        STDDEV(t.valor) as volatilidade_valores,\n",
    "        MIN(t.valor) as valor_minimo,\n",
    "        MAX(t.valor) as valor_maximo\n",
    "    FROM {TARGET_SCHEMA}.cliente cl\n",
    "    JOIN {TARGET_SCHEMA}.conta c ON cl.id_cliente = c.id_cliente\n",
    "    JOIN {TARGET_SCHEMA}.agencia a ON c.codigo_agencia = a.codigo_agencia\n",
    "    JOIN {TARGET_SCHEMA}.transacao_conta t ON c.id_conta = t.id_conta\n",
    "    WHERE t.data_transacao >= '2024-01-01'\n",
    "    GROUP BY cl.id_cliente, cl.nome, cl.cpf, a.estado, c.id_conta,\n",
    "             DATE_TRUNC('week', t.data_transacao)\n",
    "),\n",
    "estatisticas_cliente AS (\n",
    "    SELECT *,\n",
    "        -- Estatísticas históricas do cliente\n",
    "        AVG(transacoes_semana) OVER (\n",
    "            PARTITION BY id_cliente \n",
    "            ORDER BY semana \n",
    "            ROWS BETWEEN 11 PRECEDING AND 1 PRECEDING\n",
    "        ) as media_historica_transacoes,\n",
    "        \n",
    "        STDDEV(transacoes_semana) OVER (\n",
    "            PARTITION BY id_cliente \n",
    "            ORDER BY semana \n",
    "            ROWS BETWEEN 11 PRECEDING AND 1 PRECEDING\n",
    "        ) as stddev_historica_transacoes,\n",
    "        \n",
    "        AVG(valor_semana) OVER (\n",
    "            PARTITION BY id_cliente \n",
    "            ORDER BY semana \n",
    "            ROWS BETWEEN 11 PRECEDING AND 1 PRECEDING\n",
    "        ) as media_historica_valor,\n",
    "        \n",
    "        STDDEV(valor_semana) OVER (\n",
    "            PARTITION BY id_cliente \n",
    "            ORDER BY semana \n",
    "            ROWS BETWEEN 11 PRECEDING AND 1 PRECEDING\n",
    "        ) as stddev_historica_valor,\n",
    "        \n",
    "        -- Ranking de atividade no estado\n",
    "        PERCENT_RANK() OVER (\n",
    "            PARTITION BY estado, semana \n",
    "            ORDER BY valor_semana\n",
    "        ) as percentil_estado_semana\n",
    "        \n",
    "    FROM perfil_base_cliente\n",
    "),\n",
    "deteccao_anomalias AS (\n",
    "    SELECT *,\n",
    "        -- Z-Score para transações\n",
    "        CASE \n",
    "            WHEN stddev_historica_transacoes > 0 THEN \n",
    "                (transacoes_semana - media_historica_transacoes) / stddev_historica_transacoes\n",
    "            ELSE 0 \n",
    "        END as zscore_transacoes,\n",
    "        \n",
    "        -- Z-Score para valores\n",
    "        CASE \n",
    "            WHEN stddev_historica_valor > 0 THEN \n",
    "                (valor_semana - media_historica_valor) / stddev_historica_valor\n",
    "            ELSE 0 \n",
    "        END as zscore_valor,\n",
    "        \n",
    "        -- Detecção simples de outliers baseada em desvio padrão\n",
    "        CASE \n",
    "            WHEN ABS((valor_semana - media_historica_valor) / COALESCE(NULLIF(stddev_historica_valor, 0), 1)) > 2 THEN true\n",
    "            ELSE false\n",
    "        END as outlier_simples,\n",
    "        \n",
    "        -- Classificação de volatilidade\n",
    "        CASE \n",
    "            WHEN volatilidade_valores > 100000 THEN 'Alta Volatilidade'\n",
    "            WHEN volatilidade_valores > 50000 THEN 'Média Volatilidade'\n",
    "            WHEN volatilidade_valores > 10000 THEN 'Baixa Volatilidade'\n",
    "            ELSE 'Estável'\n",
    "        END as classificacao_volatilidade\n",
    "        \n",
    "    FROM estatisticas_cliente\n",
    "    WHERE media_historica_transacoes IS NOT NULL\n",
    "),\n",
    "analise_final AS (\n",
    "    SELECT *,\n",
    "        -- Classificação de anomalia simplificada\n",
    "        CASE \n",
    "            WHEN ABS(zscore_valor) > 3 OR outlier_simples = true THEN 'Alto Risco'\n",
    "            WHEN ABS(zscore_valor) > 2 OR percentil_estado_semana > 0.95 THEN 'Médio Risco'\n",
    "            WHEN ABS(zscore_valor) > 1 OR percentil_estado_semana > 0.90 THEN 'Baixo Risco'\n",
    "            ELSE 'Normal'\n",
    "        END as nivel_anomalia,\n",
    "        \n",
    "        -- Score de risco simplificado\n",
    "        (\n",
    "            ABS(zscore_valor) * 0.5 +\n",
    "            ABS(zscore_transacoes) * 0.3 +\n",
    "            percentil_estado_semana * 0.2\n",
    "        ) as score_risco\n",
    "        \n",
    "    FROM deteccao_anomalias\n",
    ")\n",
    "SELECT \n",
    "    id_cliente,\n",
    "    nome_cliente,\n",
    "    estado,\n",
    "    semana,\n",
    "    transacoes_semana,\n",
    "    valor_semana,\n",
    "    zscore_valor,\n",
    "    zscore_transacoes,\n",
    "    percentil_estado_semana,\n",
    "    outlier_simples,\n",
    "    nivel_anomalia,\n",
    "    classificacao_volatilidade,\n",
    "    score_risco,\n",
    "    RANK() OVER (ORDER BY score_risco DESC) as ranking_risco\n",
    "FROM analise_final\n",
    "WHERE nivel_anomalia != 'Normal'\n",
    "ORDER BY score_risco DESC, semana DESC\n",
    "LIMIT 30;\n",
    "\"\"\"\n",
    "\n",
    "try:\n",
    "    resultado_3 = pd.read_sql(text(query_3), engine)\n",
    "\n",
    "    print(\"🔍 DETECÇÃO DE PADRÕES ANÔMALOS E ANÁLISE PREDITIVA\")\n",
    "    print(\"=\" * 110)\n",
    "    print(f\"{'Cliente':<8} {'Nome':<20} {'UF':<3} {'Semana':<11} {'Z-Score':<8} {'Risco':<12} {'Rank':<6}\")\n",
    "    print(\"-\" * 110)\n",
    "\n",
    "    for _, row in resultado_3.head(20).iterrows():\n",
    "        semana_str = row['semana'].strftime('%Y-%m-%d') if pd.notna(row['semana']) else 'N/A'\n",
    "        nome_trunc = row['nome_cliente'][:19] if len(row['nome_cliente']) > 19 else row['nome_cliente']\n",
    "        \n",
    "        print(f\"{row['id_cliente']:<8} {nome_trunc:<20} {row['estado']:<3} {semana_str:<11} \"\n",
    "              f\"{row['zscore_valor']:>7.2f} {row['nivel_anomalia']:<12} {row['ranking_risco']:>4}\")\n",
    "\n",
    "    # Visualizações de detecção de anomalias (versão simplificada)\n",
    "    if len(resultado_3) > 0:\n",
    "        fig = make_subplots(\n",
    "            rows=2, cols=2,\n",
    "            subplot_titles=(\n",
    "                'Distribuição de Z-Scores',\n",
    "                'Score de Risco por Nível de Anomalia',\n",
    "                'Evolução Temporal dos Riscos',\n",
    "                'Estados vs Níveis de Risco'\n",
    "            ),\n",
    "            specs=[[{\"type\": \"histogram\"}, {\"type\": \"box\"}],\n",
    "                   [{\"type\": \"scatter\"}, {\"type\": \"bar\"}]]\n",
    "        )\n",
    "\n",
    "        # Gráfico 1: Distribuição de Z-Scores\n",
    "        fig.add_trace(\n",
    "            go.Histogram(\n",
    "                x=resultado_3['zscore_valor'],\n",
    "                nbinsx=25,\n",
    "                name='Z-Score Valor',\n",
    "                marker_color='red',\n",
    "                opacity=0.7\n",
    "            ),\n",
    "            row=1, col=1\n",
    "        )\n",
    "\n",
    "        # Gráfico 2: Box plot por nível de anomalia\n",
    "        for nivel in resultado_3['nivel_anomalia'].unique():\n",
    "            dados_nivel = resultado_3[resultado_3['nivel_anomalia'] == nivel]['score_risco']\n",
    "            fig.add_trace(\n",
    "                go.Box(\n",
    "                    y=dados_nivel,\n",
    "                    name=nivel,\n",
    "                    boxpoints='outliers'\n",
    "                ),\n",
    "                row=1, col=2\n",
    "            )\n",
    "\n",
    "        # Gráfico 3: Evolução temporal\n",
    "        evolucao_temporal = resultado_3.groupby(['semana', 'nivel_anomalia']).size().unstack(fill_value=0)\n",
    "        for nivel in evolucao_temporal.columns:\n",
    "            fig.add_trace(\n",
    "                go.Scatter(\n",
    "                    x=evolucao_temporal.index,\n",
    "                    y=evolucao_temporal[nivel],\n",
    "                    mode='lines+markers',\n",
    "                    name=f'{nivel}',\n",
    "                    line=dict(width=2)\n",
    "                ),\n",
    "                row=2, col=1\n",
    "            )\n",
    "\n",
    "        # Gráfico 4: Estados vs Risco\n",
    "        estado_risco = resultado_3.groupby(['estado', 'nivel_anomalia']).size().unstack(fill_value=0)\n",
    "        \n",
    "        # Somar por estado para obter totais\n",
    "        total_por_estado = estado_risco.sum(axis=1).sort_values(ascending=False).head(8)\n",
    "        \n",
    "        fig.add_trace(\n",
    "            go.Bar(\n",
    "                x=total_por_estado.index,\n",
    "                y=total_por_estado.values,\n",
    "                name='Total Anomalias',\n",
    "                marker_color='orange',\n",
    "                opacity=0.8\n",
    "            ),\n",
    "            row=2, col=2\n",
    "        )\n",
    "\n",
    "        fig.update_layout(height=900, showlegend=True, title_text=\"Análise de Detecção de Anomalias (Simplificada)\")\n",
    "        fig.show()\n",
    "\n",
    "        # Estatísticas de anomalias\n",
    "        anomalias_stats = resultado_3.groupby('nivel_anomalia').agg({\n",
    "            'id_cliente': 'count',\n",
    "            'score_risco': ['mean', 'max'],\n",
    "            'valor_semana': 'mean'\n",
    "        }).round(2)\n",
    "\n",
    "        print(f\"\\n🚨 Estatísticas de Anomalias:\")\n",
    "        total_anomalias = len(resultado_3)\n",
    "        for nivel in ['Alto Risco', 'Médio Risco', 'Baixo Risco']:\n",
    "            if nivel in anomalias_stats.index:\n",
    "                count = anomalias_stats.loc[nivel, ('id_cliente', 'count')]\n",
    "                pct = (count / total_anomalias) * 100\n",
    "                score_medio = anomalias_stats.loc[nivel, ('score_risco', 'mean')]\n",
    "                print(f\"• {nivel}: {count} casos ({pct:.1f}%) - Score médio: {score_medio:.2f}\")\n",
    "\n",
    "        # Top clientes de risco\n",
    "        top_risco = resultado_3.head(5)\n",
    "        print(f\"\\n⚠️ Top 5 Clientes de Alto Risco:\")\n",
    "        for _, cliente in top_risco.iterrows():\n",
    "            print(f\"• Cliente {cliente['id_cliente']}: Score {cliente['score_risco']:.2f} - {cliente['nivel_anomalia']}\")\n",
    "\n",
    "        print(f\"\\n📊 Insights de Detecção:\")\n",
    "        print(f\"• Total de anomalias detectadas: {len(resultado_3)}\")\n",
    "        print(f\"• Estados com mais anomalias: {', '.join(total_por_estado.head(3).index)}\")\n",
    "        print(f\"• Volatilidades encontradas: {', '.join(resultado_3['classificacao_volatilidade'].unique())}\")\n",
    "        \n",
    "    else:\n",
    "        print(\"⚠️ Nenhuma anomalia detectada nos dados\")\n",
    "\n",
    "except Exception as e:\n",
    "    print(f\"❌ Erro na execução da consulta: {e}\")\n",
    "    import traceback\n",
    "    traceback.print_exc()\n",
    "\n",
    "print(\"\\n🎉 Todas as análises complexas foram concluídas!\")\n",
    "print(\"📊 Sistema completo de análise bancária implementado com sucesso!\")\n",
    "print(\"\\n🔗 Notebooks criados:\")\n",
    "print(\"  1. 05_analytics_simple.ipynb - Consultas básicas\")\n",
    "print(\"  2. 06_analytics_intermediate.ipynb - Consultas com JOINs\")\n",
    "print(\"  3. 07_analytics_complex.ipynb - Consultas com Window Functions\")"
   ]
  }
 ],
 "metadata": {
  "kernelspec": {
   "display_name": "data-governance-with-purview-fabric-and-databricks",
   "language": "python",
   "name": "python3"
  },
  "language_info": {
   "codemirror_mode": {
    "name": "ipython",
    "version": 3
   },
   "file_extension": ".py",
   "mimetype": "text/x-python",
   "name": "python",
   "nbconvert_exporter": "python",
   "pygments_lexer": "ipython3",
   "version": "3.13.1"
  }
 },
 "nbformat": 4,
 "nbformat_minor": 5
}
