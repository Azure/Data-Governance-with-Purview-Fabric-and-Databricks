{
 "cells": [
  {
   "cell_type": "markdown",
   "id": "0aaceea3",
   "metadata": {},
   "source": [
    "# 🔐 Demo: Key Vault + .env Fallback & Event Hub Producer (Market Data)\n",
    "\n",
    "Este notebook demonstra:\n",
    "1. Como carregar segredos do **Azure Key Vault** com *fallback* para `.env`.\n",
    "2. Como ler a lista de símbolos em `assets/sample_sintetic_data/market_data_subscriptions.json`.\n",
    "3. Como enviar eventos para o **Event Hub** `market-data` usando `partition_key = símbolo`.\n",
    "4. Boas práticas de masking de segredos.\n",
    "\n",
    "> ⚠️ Este notebook é para demonstração / desenvolvimento. Não exponha segredos reais em logs."
   ]
  },
  {
   "cell_type": "markdown",
   "id": "80797062",
   "metadata": {},
   "source": [
    "## ✅ Pré-requisitos\n",
    "- Infra provisionada (Bicep ou Terraform) com Key Vault e Event Hub.\n",
    "- Segredos criados: `postgres-admin-password`, `eventhub-connection-string` (se Terraform) ou criado manualmente.\n",
    "- Variável de ambiente `KEY_VAULT_URI` exportada OU linha correspondente no `.env`.\n",
    "- Permissão de acesso (Get/List) ao Key Vault via Managed Identity ou Azure CLI login.\n",
    "\n",
    "### Pacotes Python necessários\n",
    "| Pacote | Uso |\n",
    "|--------|-----|\n",
    "| `python-dotenv` | Carregar `.env` local |\n",
    "| `azure-identity` | Autenticação unificada |\n",
    "| `azure-keyvault-secrets` | Ler segredos |\n",
    "| `azure-eventhub` | Enviar eventos |\n",
    "\n",
    "Se faltarem, instale no cluster / ambiente de execução."
   ]
  },
  {
   "cell_type": "code",
   "execution_count": null,
   "id": "29efac06",
   "metadata": {},
   "outputs": [],
   "source": [
    "# (Opcional) Instalar dependências - descomente se necessário\n",
    "# %pip install python-dotenv azure-identity azure-keyvault-secrets azure-eventhub --quiet\n",
    "import os, json, time, uuid\n",
    "from pathlib import Path\n",
    "from typing import Optional\n",
    "\n",
    "from dotenv import load_dotenv\n",
    "from azure.identity import DefaultAzureCredential\n",
    "from azure.keyvault.secrets import SecretClient\n",
    "from azure.eventhub import EventHubProducerClient, EventData\n",
    "\n",
    "print('Pacotes importados.')"
   ]
  },
  {
   "cell_type": "code",
   "execution_count": null,
   "id": "f261017a",
   "metadata": {},
   "outputs": [],
   "source": [
    "# Carrega .env (fallback).\n",
    "load_dotenv()\n",
    "KEY_VAULT_URI = os.getenv('KEY_VAULT_URI')\n",
    "print('KEY_VAULT_URI definido?' , bool(KEY_VAULT_URI))"
   ]
  },
  {
   "cell_type": "code",
   "execution_count": null,
   "id": "5b2a6b85",
   "metadata": {},
   "outputs": [],
   "source": [
    "# Utilitário para obter segredos: tenta Key Vault, senão .env\n",
    "class SecretProvider:\n",
    "    def __init__(self, kv_uri: Optional[str]):\n",
    "        self.kv_uri = kv_uri\n",
    "        self._client = None\n",
    "        if kv_uri:\n",
    "            try:\n",
    "                cred = DefaultAzureCredential(exclude_interactive_browser_credential=False)\n",
    "                self._client = SecretClient(vault_url=kv_uri, credential=cred)\n",
    "            except Exception as ex:  # noqa\n",
    "                print(f'[WARN] Falha iniciando Key Vault client: {ex}')\n",
    "                self._client = None\n",
    "    def get(self, name: str, env_fallback: Optional[str] = None) -> str:\n",
    "        # 1. Key Vault\n",
    "        if self._client is not None:\n",
    "            try:\n",
    "                return self._client.get_secret(name).value\n",
    "            except Exception as ex:  # noqa\n",
    "                print(f'[WARN] Falha lendo {name} no KV: {ex}')\n",
    "        # 2. Fallback env/.env\n",
    "        candidates = [env_fallback, name, name.upper().replace('-', '_')]\n",
    "        for key in candidates:\n",
    "            if not key: continue\n",
    "            val = os.getenv(key)\n",
    "            if val: return val\n",
    "        raise RuntimeError(f'Segredo {name} não encontrado em KV nem env')\n",
    "\n",
    "sp = SecretProvider(KEY_VAULT_URI)\n",
    "POSTGRES_PASSWORD = sp.get('postgres-admin-password', env_fallback='PGPASSWORD')\n",
    "try:\n",
    "    EVENTHUB_CONNECTION = sp.get('eventhub-connection-string', env_fallback='EVENTHUB_CONNECTION_STRING')\n",
    "except Exception as ex:  # noqa\n",
    "    EVENTHUB_CONNECTION = None\n",
    "    print('[INFO] Segredo eventhub-connection-string não disponível - pulando envio de eventos.')\n",
    "def mask(value: Optional[str], visible: int = 4) -> str:\n",
    "    if not value: return '<none>'\n",
    "    return value[:visible] + '***' + value[-visible:] if len(value) > visible*2 else '***'\n",
    "print('POSTGRES_PASSWORD (masked):', mask(POSTGRES_PASSWORD))\n",
    "print('EVENTHUB_CONNECTION (masked):', mask(EVENTHUB_CONNECTION))"
   ]
  },
  {
   "cell_type": "markdown",
   "id": "2a42d285",
   "metadata": {},
   "source": [
    "## 📄 Carregar lista de símbolos\n",
    "Arquivo: `assets/sample_sintetic_data/market_data_subscriptions.json` contendo grupos e lista unificada (`all`)."
   ]
  },
  {
   "cell_type": "code",
   "execution_count": null,
   "id": "e084c760",
   "metadata": {},
   "outputs": [],
   "source": [
    "SYMBOLS_FILE = Path('..') / 'assets' / 'sample_sintetic_data' / 'market_data_subscriptions.json'\n",
    "data = json.loads(SYMBOLS_FILE.read_text(encoding='utf-8'))\n",
    "symbols = data['all'][:20]  # reduzido para demo\n",
    "print(f'Total símbolos (all): {len(data[\n",
    "])}, usaremos {len(symbols)} nesta demo.')\n",
    "symbols[:10]"
   ]
  },
  {
   "cell_type": "markdown",
   "id": "04b2d974",
   "metadata": {},
   "source": [
    "## 🚀 Produção de Eventos (Partition Key = símbolo)\n",
    "Cada evento será particionado determinísticamente pelo ticker, garantindo ordenação per-partition.\n",
    "Se Capture estiver habilitado, arquivos Avro serão gravados no container `ehcapture` conforme janela/tamanho configurados."
   ]
  },
  {
   "cell_type": "code",
   "execution_count": null,
   "id": "cdb0d7a9",
   "metadata": {},
   "outputs": [],
   "source": [
    "if EVENTHUB_CONNECTION:\n",
    "    producer = EventHubProducerClient.from_connection_string(conn_str=EVENTHUB_CONNECTION)\n",
    "    batch = None\n",
    "    sent = 0\n",
    "    with producer:\n",
    "        for sym in symbols:\n",
    "            payload = {\n",
    "                'id': str(uuid.uuid4()),\n",
    "                'symbol': sym,\n",
    "                'price': round(100 + 50 * (hash(sym) % 100) / 100, 2),\n",
    "                'ts': time.time()\n",
    "            }\n",
    "            ed = EventData(json.dumps(payload))\n",
    "            # Para garantir direcionamento por ticker use send_event_data_batch com partition_key\n",
    "            producer.send_batch([ed], partition_key=sym)\n",
    "            sent += 1\n",
    "    print(f'Enviados {sent} eventos para o Event Hub market-data.')\n",
    "else:\n",
    "    print('EVENTHUB_CONNECTION ausente - simulação somente.')"
   ]
  },
  {
   "cell_type": "markdown",
   "id": "056e4d3d",
   "metadata": {},
   "source": [
    "## 🧪 Próximos Passos\n",
    "1. Criar um consumidor (Databricks Structured Streaming / Spark).\n",
    "2. Escrever Delta Bronze com schema evolving.\n",
    "3. Aplicar transformações Silver/Gold.\n",
    "4. Reprocessar histórico via arquivos de Capture se necessário.\n",
    "\n",
    "> Dica: para replays, liste blobs no container `ehcapture` e reprocesse Avro em ordem de tempo."
   ]
  },
  {
   "cell_type": "markdown",
   "id": "886bf21a",
   "metadata": {},
   "source": [
    "## ✅ Conclusão\n",
    "Você viu como: (a) resolver segredos via Key Vault com fallback, (b) carregar lista de símbolos, (c) enviar eventos particionados por ticker.\n",
    "A próxima etapa é automatizar pipelines de ingestão e lineage no Purview."
   ]
  }
 ],
 "metadata": {
  "language_info": {
   "name": "python"
  }
 },
 "nbformat": 4,
 "nbformat_minor": 5
}
