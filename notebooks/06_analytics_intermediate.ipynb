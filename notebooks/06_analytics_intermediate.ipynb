{
 "cells": [
  {
   "cell_type": "markdown",
   "id": "93756689",
   "metadata": {},
   "source": [
    "# Análises Intermediárias - Dados Bancários\n",
    "\n",
    "Este notebook contém **3 consultas intermediárias** utilizando JOINs para análise aprofundada dos dados bancários.\n",
    "\n",
    "## Objetivo\n",
    "- Correlacionar dados entre tabelas\n",
    "- Identificar padrões de comportamento dos clientes\n",
    "- Analisar performance por agência e região\n",
    "- Obter insights de relacionamento entre entidades"
   ]
  },
  {
   "cell_type": "code",
   "execution_count": null,
   "id": "23b74e72",
   "metadata": {},
   "outputs": [
    {
     "name": "stdout",
     "output_type": "stream",
     "text": [
      "✅ Configuração concluída!\n",
      "🔗 Conectado ao banco: fsi_db\n",
      "📊 Schema: mkl_bank\n"
     ]
    }
   ],
   "source": [
    "# Configuração inicial\n",
    "import pandas as pd\n",
    "import matplotlib.pyplot as plt\n",
    "import seaborn as sns\n",
    "import plotly.express as px\n",
    "import plotly.graph_objects as go\n",
    "from plotly.subplots import make_subplots\n",
    "from sqlalchemy import create_engine, text\n",
    "from datetime import datetime, timedelta\n",
    "import warnings, os\n",
    "from dotenv import load_dotenv \n",
    " \n",
    "# Carregar variáveis do arquivo .env de um diretório específico\n",
    "env_path = \"../env_files/.env\"\n",
    "load_dotenv(dotenv_path=env_path)\n",
    "warnings.filterwarnings('ignore')\n",
    "\n",
    "# Database configuration - Alinhado com notebooks 01-03\n",
    "DB_CONFIG = {\n",
    "    'host': os.getenv(\"PGHOST\", \"localhost\"),\n",
    "    'port': int(os.getenv(\"PGPORT\", \"5432\")),  # Converter para int\n",
    "    'user': os.getenv(\"PGUSER\", \"postgres\"),\n",
    "    'password': os.getenv(\"PGPASSWORD\", \"postgres\"),\n",
    "    'database': os.getenv(\"PGDATABASE\", \"mkl_bank\"),  # Target database correto\n",
    "    'sslmode': os.getenv(\"PGSSLMODE\", \"require\"),\n",
    "    'connect_timeout': 30,\n",
    "    'application_name': 'MKL-Bank-Analytics-Intermediate'\n",
    "}\n",
    "\n",
    "# Criar conexão\n",
    "connection_string = f\"postgresql://{DB_CONFIG['user']}:{DB_CONFIG['password']}@{DB_CONFIG['host']}:{DB_CONFIG['port']}/{DB_CONFIG['database']}?sslmode={DB_CONFIG['sslmode']}&connect_timeout={DB_CONFIG['connect_timeout']}&application_name={DB_CONFIG['application_name']}\"\n",
    "engine = create_engine(connection_string)\n",
    "\n",
    "# Schema alvo correto\n",
    "TARGET_SCHEMA = os.getenv(\"TARGETSCHEMA\", \"core_bank\")  # Schema correto\n",
    "\n",
    "# Configurar estilo dos gráficos\n",
    "plt.style.use('seaborn-v0_8')\n",
    "sns.set_palette(\"husl\")\n",
    "\n",
    "print(\"✅ Configuração concluída!\")\n",
    "print(f\"🔗 Conectado ao banco: {DB_CONFIG['database']}\")\n",
    "print(f\"📊 Schema: {TARGET_SCHEMA}\")"
   ]
  },
  {
   "cell_type": "markdown",
   "id": "ee49a39e",
   "metadata": {},
   "source": [
    "## 🏦 Consulta 1: Performance de Movimentações por Agência\n",
    "\n",
    "**Objetivo**: Analisar o volume de transações e valores movimentados por cada agência, identificando as mais ativas."
   ]
  },
  {
   "cell_type": "code",
   "execution_count": null,
   "id": "379680f5",
   "metadata": {},
   "outputs": [
    {
     "name": "stdout",
     "output_type": "stream",
     "text": [
      "\n",
      "🔍 ESTRUTURA DA TABELA AGENCIA\n",
      "==================================================\n",
      "codigo_agencia           : character varying\n",
      "nome                     : character varying\n",
      "endereco                 : character varying\n",
      "cidade                   : character varying\n",
      "estado                   : character\n",
      "telefone                 : character varying\n",
      "\n",
      "🔍 ESTRUTURA DA TABELA CLIENTE\n",
      "==================================================\n",
      "id_cliente               : integer\n",
      "cpf                      : character varying\n",
      "nome                     : character varying\n",
      "data_nascimento          : date\n",
      "genero                   : character\n",
      "email                    : character varying\n",
      "telefone                 : character varying\n",
      "\n",
      "🔍 ESTRUTURA DA TABELA CONTA\n",
      "==================================================\n",
      "id_conta                 : integer\n",
      "id_conta             : character varying\n",
      "codigo_agencia           : character varying\n",
      "id_cliente               : integer\n",
      "saldo                    : numeric\n",
      "data_abertura            : date\n",
      "status                   : character\n",
      "\n",
      "🔍 ESTRUTURA DA TABELA CARTAO\n",
      "==================================================\n",
      "numero_cartao            : text\n",
      "id_cliente               : bigint\n",
      "data_emissao             : text\n",
      "limite_credito           : double precision\n",
      "status                   : text\n",
      "\n",
      "🔍 ESTRUTURA DA TABELA CHAVE_PIX\n",
      "==================================================\n",
      "id_chave_pix             : integer\n",
      "id_cliente               : integer\n",
      "id_conta                 : integer\n",
      "tipo_chave               : character varying\n",
      "valor_chave              : character varying\n",
      "data_cadastro            : date\n",
      "status                   : character\n",
      "\n",
      "✅ Estruturas verificadas - agora vamos ajustar as consultas!\n"
     ]
    }
   ],
   "source": [
    "# Vamos verificar a estrutura das tabelas principais para usar os nomes corretos\n",
    "tables_to_check = ['agencias', 'clientes', 'contas', 'cartoes', 'chaves_pix']\n",
    "\n",
    "for table in tables_to_check:\n",
    "    print(f\"\\n🔍 ESTRUTURA DA TABELA {table.upper()}\")\n",
    "    print(\"=\" * 50)\n",
    "    \n",
    "    query_estrutura = f\"\"\"\n",
    "    SELECT column_name, data_type \n",
    "    FROM information_schema.columns \n",
    "    WHERE table_schema = '{TARGET_SCHEMA}' \n",
    "    AND table_name = '{table}'\n",
    "    ORDER BY ordinal_position;\n",
    "    \"\"\"\n",
    "    \n",
    "    estrutura = pd.read_sql(query_estrutura, engine)\n",
    "    for _, row in estrutura.iterrows():\n",
    "        print(f\"{row['column_name']:<25}: {row['data_type']}\")\n",
    "\n",
    "print(\"\\n✅ Estruturas verificadas - agora vamos ajustar as consultas!\")"
   ]
  },
  {
   "cell_type": "code",
   "execution_count": null,
   "id": "58925a9e",
   "metadata": {},
   "outputs": [
    {
     "name": "stdout",
     "output_type": "stream",
     "text": [
      "🏦 TOP 15 AGÊNCIAS POR MOVIMENTAÇÃO FINANCEIRA\n",
      "================================================================================\n",
      "Agência  Cidade          UF  Transações Valor Total     Valor Médio \n",
      "--------------------------------------------------------------------------------\n",
      "2199     Vieira          PB       884     44,311,500      50,126\n",
      "5981     Rocha Paulista  SP       865     44,306,984      51,222\n",
      "4522     Rocha           RS       847     43,828,853      51,746\n",
      "7273     Marques         RJ       853     41,367,499      48,496\n",
      "4415     Sampaio de da   RN       794     41,013,084      51,654\n",
      "5430     Casa Grande     SP       833     41,000,954      49,221\n",
      "1257     Camargo Grande  MT       806     39,931,941      49,543\n",
      "1714     Rocha           PB       777     39,801,029      51,224\n",
      "6187     da Rocha de So  AP       765     39,515,033      51,654\n",
      "8316     Pinto           RJ       773     38,178,365      49,390\n"
     ]
    },
    {
     "data": {
      "application/vnd.plotly.v1+json": {
       "config": {
        "plotlyServerURL": "https://plot.ly"
       },
       "data": [
        {
         "marker": {
          "color": "lightblue"
         },
         "name": "Transações",
         "text": {
          "bdata": "AAAAAACgi0AAAAAAAAiLQAAAAAAAeIpAAAAAAACoikAAAAAAANCIQAAAAAAACIpAAAAAAAAwiUAAAAAAAEiIQAAAAAAA6IdAAAAAAAAoiEA=",
          "dtype": "f8"
         },
         "textposition": "auto",
         "type": "bar",
         "x": [
          "2199",
          "5981",
          "4522",
          "7273",
          "4415",
          "5430",
          "1257",
          "1714",
          "6187",
          "8316"
         ],
         "xaxis": "x",
         "y": {
          "bdata": "dANhA08DVQMaA0EDJgMJA/0CBQM=",
          "dtype": "i2"
         },
         "yaxis": "y"
        },
        {
         "marker": {
          "color": "lightgreen"
         },
         "name": "Valor Total",
         "text": [
          "R$ 44.3M",
          "R$ 44.3M",
          "R$ 43.8M",
          "R$ 41.4M",
          "R$ 41.0M",
          "R$ 41.0M",
          "R$ 39.9M",
          "R$ 39.8M",
          "R$ 39.5M",
          "R$ 38.2M"
         ],
         "textposition": "auto",
         "type": "bar",
         "x": [
          "2199",
          "5981",
          "4522",
          "7273",
          "4415",
          "5430",
          "1257",
          "1714",
          "6187",
          "8316"
         ],
         "xaxis": "x2",
         "y": {
          "bdata": "FK5HYR4hhUH2KFxDkSCFQexRuKgz5oRBAAAAWL65g0GkcD3geo6DQYXrUcz/jINBZmZmKIEKg0EAAAAohvqCQVK4HsWc14JB9ihc63E0gkE=",
          "dtype": "f8"
         },
         "yaxis": "y2"
        },
        {
         "domain": {
          "x": [
           0,
           0.45
          ],
          "y": [
           0,
           0.375
          ]
         },
         "labels": [
          "AP",
          "CE",
          "MT",
          "PB",
          "RJ",
          "RN",
          "RS",
          "SP"
         ],
         "name": "Estados",
         "type": "pie",
         "values": {
          "bdata": "/QLdAiYDfQZaBhoD+QhfDA==",
          "dtype": "i2"
         }
        },
        {
         "marker": {
          "color": "red",
          "opacity": 0.7,
          "size": 10
         },
         "mode": "markers",
         "name": "Agências",
         "text": [
          "2199",
          "5981",
          "4522",
          "7273",
          "4415",
          "5430",
          "1257",
          "1714",
          "6187",
          "8316",
          "3913",
          "4593",
          "4123",
          "1971",
          "6319"
         ],
         "type": "scatter",
         "x": {
          "bdata": "dANhA08DVQMaA0EDJgMJA/0CBQPMAt4C5QLdAtgC",
          "dtype": "i2"
         },
         "xaxis": "x3",
         "y": {
          "bdata": "aHdzNMR56ECRbFVQvgLpQOYM06k/ROlAblAkaw+u50C/W19DuDjpQC/6gKSaCOhAfwfbPOsw6EB2Sq43/wLpQEcv5GW0OOlA2w2yq7sd6EBhUiDx13TpQOE7ktFHpehAkt4OPB5I6EBlQRud0sfnQCUUD76f7+dA",
          "dtype": "f8"
         },
         "yaxis": "y3"
        }
       ],
       "layout": {
        "annotations": [
         {
          "font": {
           "size": 16
          },
          "showarrow": false,
          "text": "Volume de Transações por Agência",
          "x": 0.225,
          "xanchor": "center",
          "xref": "paper",
          "y": 1,
          "yanchor": "bottom",
          "yref": "paper"
         },
         {
          "font": {
           "size": 16
          },
          "showarrow": false,
          "text": "Valor Total Movimentado por Agência",
          "x": 0.775,
          "xanchor": "center",
          "xref": "paper",
          "y": 1,
          "yanchor": "bottom",
          "yref": "paper"
         },
         {
          "font": {
           "size": 16
          },
          "showarrow": false,
          "text": "Distribuição por Estado",
          "x": 0.225,
          "xanchor": "center",
          "xref": "paper",
          "y": 0.375,
          "yanchor": "bottom",
          "yref": "paper"
         },
         {
          "font": {
           "size": 16
          },
          "showarrow": false,
          "text": "Relação: Transações vs Valor Médio",
          "x": 0.775,
          "xanchor": "center",
          "xref": "paper",
          "y": 0.375,
          "yanchor": "bottom",
          "yref": "paper"
         }
        ],
        "height": 800,
        "showlegend": false,
        "template": {
         "data": {
          "bar": [
           {
            "error_x": {
             "color": "#2a3f5f"
            },
            "error_y": {
             "color": "#2a3f5f"
            },
            "marker": {
             "line": {
              "color": "#E5ECF6",
              "width": 0.5
             },
             "pattern": {
              "fillmode": "overlay",
              "size": 10,
              "solidity": 0.2
             }
            },
            "type": "bar"
           }
          ],
          "barpolar": [
           {
            "marker": {
             "line": {
              "color": "#E5ECF6",
              "width": 0.5
             },
             "pattern": {
              "fillmode": "overlay",
              "size": 10,
              "solidity": 0.2
             }
            },
            "type": "barpolar"
           }
          ],
          "carpet": [
           {
            "aaxis": {
             "endlinecolor": "#2a3f5f",
             "gridcolor": "white",
             "linecolor": "white",
             "minorgridcolor": "white",
             "startlinecolor": "#2a3f5f"
            },
            "baxis": {
             "endlinecolor": "#2a3f5f",
             "gridcolor": "white",
             "linecolor": "white",
             "minorgridcolor": "white",
             "startlinecolor": "#2a3f5f"
            },
            "type": "carpet"
           }
          ],
          "choropleth": [
           {
            "colorbar": {
             "outlinewidth": 0,
             "ticks": ""
            },
            "type": "choropleth"
           }
          ],
          "contour": [
           {
            "colorbar": {
             "outlinewidth": 0,
             "ticks": ""
            },
            "colorscale": [
             [
              0,
              "#0d0887"
             ],
             [
              0.1111111111111111,
              "#46039f"
             ],
             [
              0.2222222222222222,
              "#7201a8"
             ],
             [
              0.3333333333333333,
              "#9c179e"
             ],
             [
              0.4444444444444444,
              "#bd3786"
             ],
             [
              0.5555555555555556,
              "#d8576b"
             ],
             [
              0.6666666666666666,
              "#ed7953"
             ],
             [
              0.7777777777777778,
              "#fb9f3a"
             ],
             [
              0.8888888888888888,
              "#fdca26"
             ],
             [
              1,
              "#f0f921"
             ]
            ],
            "type": "contour"
           }
          ],
          "contourcarpet": [
           {
            "colorbar": {
             "outlinewidth": 0,
             "ticks": ""
            },
            "type": "contourcarpet"
           }
          ],
          "heatmap": [
           {
            "colorbar": {
             "outlinewidth": 0,
             "ticks": ""
            },
            "colorscale": [
             [
              0,
              "#0d0887"
             ],
             [
              0.1111111111111111,
              "#46039f"
             ],
             [
              0.2222222222222222,
              "#7201a8"
             ],
             [
              0.3333333333333333,
              "#9c179e"
             ],
             [
              0.4444444444444444,
              "#bd3786"
             ],
             [
              0.5555555555555556,
              "#d8576b"
             ],
             [
              0.6666666666666666,
              "#ed7953"
             ],
             [
              0.7777777777777778,
              "#fb9f3a"
             ],
             [
              0.8888888888888888,
              "#fdca26"
             ],
             [
              1,
              "#f0f921"
             ]
            ],
            "type": "heatmap"
           }
          ],
          "histogram": [
           {
            "marker": {
             "pattern": {
              "fillmode": "overlay",
              "size": 10,
              "solidity": 0.2
             }
            },
            "type": "histogram"
           }
          ],
          "histogram2d": [
           {
            "colorbar": {
             "outlinewidth": 0,
             "ticks": ""
            },
            "colorscale": [
             [
              0,
              "#0d0887"
             ],
             [
              0.1111111111111111,
              "#46039f"
             ],
             [
              0.2222222222222222,
              "#7201a8"
             ],
             [
              0.3333333333333333,
              "#9c179e"
             ],
             [
              0.4444444444444444,
              "#bd3786"
             ],
             [
              0.5555555555555556,
              "#d8576b"
             ],
             [
              0.6666666666666666,
              "#ed7953"
             ],
             [
              0.7777777777777778,
              "#fb9f3a"
             ],
             [
              0.8888888888888888,
              "#fdca26"
             ],
             [
              1,
              "#f0f921"
             ]
            ],
            "type": "histogram2d"
           }
          ],
          "histogram2dcontour": [
           {
            "colorbar": {
             "outlinewidth": 0,
             "ticks": ""
            },
            "colorscale": [
             [
              0,
              "#0d0887"
             ],
             [
              0.1111111111111111,
              "#46039f"
             ],
             [
              0.2222222222222222,
              "#7201a8"
             ],
             [
              0.3333333333333333,
              "#9c179e"
             ],
             [
              0.4444444444444444,
              "#bd3786"
             ],
             [
              0.5555555555555556,
              "#d8576b"
             ],
             [
              0.6666666666666666,
              "#ed7953"
             ],
             [
              0.7777777777777778,
              "#fb9f3a"
             ],
             [
              0.8888888888888888,
              "#fdca26"
             ],
             [
              1,
              "#f0f921"
             ]
            ],
            "type": "histogram2dcontour"
           }
          ],
          "mesh3d": [
           {
            "colorbar": {
             "outlinewidth": 0,
             "ticks": ""
            },
            "type": "mesh3d"
           }
          ],
          "parcoords": [
           {
            "line": {
             "colorbar": {
              "outlinewidth": 0,
              "ticks": ""
             }
            },
            "type": "parcoords"
           }
          ],
          "pie": [
           {
            "automargin": true,
            "type": "pie"
           }
          ],
          "scatter": [
           {
            "fillpattern": {
             "fillmode": "overlay",
             "size": 10,
             "solidity": 0.2
            },
            "type": "scatter"
           }
          ],
          "scatter3d": [
           {
            "line": {
             "colorbar": {
              "outlinewidth": 0,
              "ticks": ""
             }
            },
            "marker": {
             "colorbar": {
              "outlinewidth": 0,
              "ticks": ""
             }
            },
            "type": "scatter3d"
           }
          ],
          "scattercarpet": [
           {
            "marker": {
             "colorbar": {
              "outlinewidth": 0,
              "ticks": ""
             }
            },
            "type": "scattercarpet"
           }
          ],
          "scattergeo": [
           {
            "marker": {
             "colorbar": {
              "outlinewidth": 0,
              "ticks": ""
             }
            },
            "type": "scattergeo"
           }
          ],
          "scattergl": [
           {
            "marker": {
             "colorbar": {
              "outlinewidth": 0,
              "ticks": ""
             }
            },
            "type": "scattergl"
           }
          ],
          "scattermap": [
           {
            "marker": {
             "colorbar": {
              "outlinewidth": 0,
              "ticks": ""
             }
            },
            "type": "scattermap"
           }
          ],
          "scattermapbox": [
           {
            "marker": {
             "colorbar": {
              "outlinewidth": 0,
              "ticks": ""
             }
            },
            "type": "scattermapbox"
           }
          ],
          "scatterpolar": [
           {
            "marker": {
             "colorbar": {
              "outlinewidth": 0,
              "ticks": ""
             }
            },
            "type": "scatterpolar"
           }
          ],
          "scatterpolargl": [
           {
            "marker": {
             "colorbar": {
              "outlinewidth": 0,
              "ticks": ""
             }
            },
            "type": "scatterpolargl"
           }
          ],
          "scatterternary": [
           {
            "marker": {
             "colorbar": {
              "outlinewidth": 0,
              "ticks": ""
             }
            },
            "type": "scatterternary"
           }
          ],
          "surface": [
           {
            "colorbar": {
             "outlinewidth": 0,
             "ticks": ""
            },
            "colorscale": [
             [
              0,
              "#0d0887"
             ],
             [
              0.1111111111111111,
              "#46039f"
             ],
             [
              0.2222222222222222,
              "#7201a8"
             ],
             [
              0.3333333333333333,
              "#9c179e"
             ],
             [
              0.4444444444444444,
              "#bd3786"
             ],
             [
              0.5555555555555556,
              "#d8576b"
             ],
             [
              0.6666666666666666,
              "#ed7953"
             ],
             [
              0.7777777777777778,
              "#fb9f3a"
             ],
             [
              0.8888888888888888,
              "#fdca26"
             ],
             [
              1,
              "#f0f921"
             ]
            ],
            "type": "surface"
           }
          ],
          "table": [
           {
            "cells": {
             "fill": {
              "color": "#EBF0F8"
             },
             "line": {
              "color": "white"
             }
            },
            "header": {
             "fill": {
              "color": "#C8D4E3"
             },
             "line": {
              "color": "white"
             }
            },
            "type": "table"
           }
          ]
         },
         "layout": {
          "annotationdefaults": {
           "arrowcolor": "#2a3f5f",
           "arrowhead": 0,
           "arrowwidth": 1
          },
          "autotypenumbers": "strict",
          "coloraxis": {
           "colorbar": {
            "outlinewidth": 0,
            "ticks": ""
           }
          },
          "colorscale": {
           "diverging": [
            [
             0,
             "#8e0152"
            ],
            [
             0.1,
             "#c51b7d"
            ],
            [
             0.2,
             "#de77ae"
            ],
            [
             0.3,
             "#f1b6da"
            ],
            [
             0.4,
             "#fde0ef"
            ],
            [
             0.5,
             "#f7f7f7"
            ],
            [
             0.6,
             "#e6f5d0"
            ],
            [
             0.7,
             "#b8e186"
            ],
            [
             0.8,
             "#7fbc41"
            ],
            [
             0.9,
             "#4d9221"
            ],
            [
             1,
             "#276419"
            ]
           ],
           "sequential": [
            [
             0,
             "#0d0887"
            ],
            [
             0.1111111111111111,
             "#46039f"
            ],
            [
             0.2222222222222222,
             "#7201a8"
            ],
            [
             0.3333333333333333,
             "#9c179e"
            ],
            [
             0.4444444444444444,
             "#bd3786"
            ],
            [
             0.5555555555555556,
             "#d8576b"
            ],
            [
             0.6666666666666666,
             "#ed7953"
            ],
            [
             0.7777777777777778,
             "#fb9f3a"
            ],
            [
             0.8888888888888888,
             "#fdca26"
            ],
            [
             1,
             "#f0f921"
            ]
           ],
           "sequentialminus": [
            [
             0,
             "#0d0887"
            ],
            [
             0.1111111111111111,
             "#46039f"
            ],
            [
             0.2222222222222222,
             "#7201a8"
            ],
            [
             0.3333333333333333,
             "#9c179e"
            ],
            [
             0.4444444444444444,
             "#bd3786"
            ],
            [
             0.5555555555555556,
             "#d8576b"
            ],
            [
             0.6666666666666666,
             "#ed7953"
            ],
            [
             0.7777777777777778,
             "#fb9f3a"
            ],
            [
             0.8888888888888888,
             "#fdca26"
            ],
            [
             1,
             "#f0f921"
            ]
           ]
          },
          "colorway": [
           "#636efa",
           "#EF553B",
           "#00cc96",
           "#ab63fa",
           "#FFA15A",
           "#19d3f3",
           "#FF6692",
           "#B6E880",
           "#FF97FF",
           "#FECB52"
          ],
          "font": {
           "color": "#2a3f5f"
          },
          "geo": {
           "bgcolor": "white",
           "lakecolor": "white",
           "landcolor": "#E5ECF6",
           "showlakes": true,
           "showland": true,
           "subunitcolor": "white"
          },
          "hoverlabel": {
           "align": "left"
          },
          "hovermode": "closest",
          "mapbox": {
           "style": "light"
          },
          "paper_bgcolor": "white",
          "plot_bgcolor": "#E5ECF6",
          "polar": {
           "angularaxis": {
            "gridcolor": "white",
            "linecolor": "white",
            "ticks": ""
           },
           "bgcolor": "#E5ECF6",
           "radialaxis": {
            "gridcolor": "white",
            "linecolor": "white",
            "ticks": ""
           }
          },
          "scene": {
           "xaxis": {
            "backgroundcolor": "#E5ECF6",
            "gridcolor": "white",
            "gridwidth": 2,
            "linecolor": "white",
            "showbackground": true,
            "ticks": "",
            "zerolinecolor": "white"
           },
           "yaxis": {
            "backgroundcolor": "#E5ECF6",
            "gridcolor": "white",
            "gridwidth": 2,
            "linecolor": "white",
            "showbackground": true,
            "ticks": "",
            "zerolinecolor": "white"
           },
           "zaxis": {
            "backgroundcolor": "#E5ECF6",
            "gridcolor": "white",
            "gridwidth": 2,
            "linecolor": "white",
            "showbackground": true,
            "ticks": "",
            "zerolinecolor": "white"
           }
          },
          "shapedefaults": {
           "line": {
            "color": "#2a3f5f"
           }
          },
          "ternary": {
           "aaxis": {
            "gridcolor": "white",
            "linecolor": "white",
            "ticks": ""
           },
           "baxis": {
            "gridcolor": "white",
            "linecolor": "white",
            "ticks": ""
           },
           "bgcolor": "#E5ECF6",
           "caxis": {
            "gridcolor": "white",
            "linecolor": "white",
            "ticks": ""
           }
          },
          "title": {
           "x": 0.05
          },
          "xaxis": {
           "automargin": true,
           "gridcolor": "white",
           "linecolor": "white",
           "ticks": "",
           "title": {
            "standoff": 15
           },
           "zerolinecolor": "white",
           "zerolinewidth": 2
          },
          "yaxis": {
           "automargin": true,
           "gridcolor": "white",
           "linecolor": "white",
           "ticks": "",
           "title": {
            "standoff": 15
           },
           "zerolinecolor": "white",
           "zerolinewidth": 2
          }
         }
        },
        "title": {
         "text": "Análise de Performance por Agência"
        },
        "xaxis": {
         "anchor": "y",
         "domain": [
          0,
          0.45
         ]
        },
        "xaxis2": {
         "anchor": "y2",
         "domain": [
          0.55,
          1
         ]
        },
        "xaxis3": {
         "anchor": "y3",
         "domain": [
          0.55,
          1
         ]
        },
        "yaxis": {
         "anchor": "x",
         "domain": [
          0.625,
          1
         ]
        },
        "yaxis2": {
         "anchor": "x2",
         "domain": [
          0.625,
          1
         ]
        },
        "yaxis3": {
         "anchor": "x3",
         "domain": [
          0,
          0.375
         ]
        }
       }
      }
     },
     "metadata": {},
     "output_type": "display_data"
    },
    {
     "name": "stdout",
     "output_type": "stream",
     "text": [
      "\n",
      "📈 Resumo:\n",
      "• Agência mais ativa: Agência 2199 (2199)\n",
      "• Total movimentado: R$ 44,311,500.16\n",
      "• Estados com mais transações: AP, CE, MT\n"
     ]
    }
   ],
   "source": [
    "# Consulta 1: Performance de movimentações por agência\n",
    "query_1 = f\"\"\"\n",
    "SELECT \n",
    "    a.codigo_agencia,\n",
    "    a.nome as nome_agencia,\n",
    "    a.cidade,\n",
    "    a.estado,\n",
    "    COUNT(t.id_transacao) as total_transacoes,\n",
    "    SUM(t.valor) as valor_total_movimentado,\n",
    "    AVG(t.valor) as valor_medio_transacao,\n",
    "    COUNT(DISTINCT c.id_conta) as contas_ativas,\n",
    "    COUNT(DISTINCT cl.id_cliente) as clientes_unicos\n",
    "FROM \"{TARGET_SCHEMA}\".agencias a\n",
    "LEFT JOIN \"{TARGET_SCHEMA}\".contas c ON a.codigo_agencia = c.codigo_agencia\n",
    "LEFT JOIN \"{TARGET_SCHEMA}\".clientes cl ON c.id_cliente = cl.id_cliente\n",
    "LEFT JOIN \"{TARGET_SCHEMA}\".transacoes t ON c.id_conta = t.id_conta\n",
    "GROUP BY a.codigo_agencia, a.nome, a.cidade, a.estado\n",
    "HAVING COUNT(t.id_transacao) > 0\n",
    "ORDER BY valor_total_movimentado DESC\n",
    "LIMIT 15;\n",
    "\"\"\"\n",
    "\n",
    "resultado_1 = pd.read_sql(query_1, engine)\n",
    "\n",
    "print(\"🏦 TOP 15 AGÊNCIAS POR MOVIMENTAÇÃO FINANCEIRA\")\n",
    "print(\"=\" * 80)\n",
    "print(f\"{'Agência':<8} {'Cidade':<15} {'UF':<3} {'Transações':<10} {'Valor Total':<15} {'Valor Médio':<12}\")\n",
    "print(\"-\" * 80)\n",
    "\n",
    "for _, row in resultado_1.head(10).iterrows():\n",
    "    print(f\"{row['codigo_agencia']:<8} {row['cidade'][:14]:<15} {row['estado']:<3} \"\n",
    "          f\"{row['total_transacoes']:>8,} {row['valor_total_movimentado']:>14,.0f} \"\n",
    "          f\"{row['valor_medio_transacao']:>11,.0f}\")\n",
    "\n",
    "# Visualização interativa com Plotly\n",
    "fig = make_subplots(\n",
    "    rows=2, cols=2,\n",
    "    subplot_titles=(\n",
    "        'Volume de Transações por Agência',\n",
    "        'Valor Total Movimentado por Agência', \n",
    "        'Distribuição por Estado',\n",
    "        'Relação: Transações vs Valor Médio'\n",
    "    ),\n",
    "    specs=[[{\"type\": \"bar\"}, {\"type\": \"bar\"}],\n",
    "           [{\"type\": \"pie\"}, {\"type\": \"scatter\"}]]\n",
    ")\n",
    "\n",
    "# Gráfico 1: Volume de transações\n",
    "fig.add_trace(\n",
    "    go.Bar(\n",
    "        x=resultado_1.head(10)['codigo_agencia'],\n",
    "        y=resultado_1.head(10)['total_transacoes'],\n",
    "        name='Transações',\n",
    "        text=resultado_1.head(10)['total_transacoes'],\n",
    "        textposition='auto',\n",
    "        marker_color='lightblue'\n",
    "    ),\n",
    "    row=1, col=1\n",
    ")\n",
    "\n",
    "# Gráfico 2: Valor total\n",
    "fig.add_trace(\n",
    "    go.Bar(\n",
    "        x=resultado_1.head(10)['codigo_agencia'],\n",
    "        y=resultado_1.head(10)['valor_total_movimentado'],\n",
    "        name='Valor Total',\n",
    "        text=[f'R$ {x/1e6:.1f}M' for x in resultado_1.head(10)['valor_total_movimentado']],\n",
    "        textposition='auto',\n",
    "        marker_color='lightgreen'\n",
    "    ),\n",
    "    row=1, col=2\n",
    ")\n",
    "\n",
    "# Gráfico 3: Distribuição por estado\n",
    "estado_dist = resultado_1.groupby('estado')['total_transacoes'].sum().reset_index()\n",
    "fig.add_trace(\n",
    "    go.Pie(\n",
    "        labels=estado_dist['estado'],\n",
    "        values=estado_dist['total_transacoes'],\n",
    "        name='Estados'\n",
    "    ),\n",
    "    row=2, col=1\n",
    ")\n",
    "\n",
    "# Gráfico 4: Scatter plot\n",
    "fig.add_trace(\n",
    "    go.Scatter(\n",
    "        x=resultado_1['total_transacoes'],\n",
    "        y=resultado_1['valor_medio_transacao'],\n",
    "        mode='markers',\n",
    "        text=resultado_1['codigo_agencia'],\n",
    "        name='Agências',\n",
    "        marker=dict(size=10, color='red', opacity=0.7)\n",
    "    ),\n",
    "    row=2, col=2\n",
    ")\n",
    "\n",
    "fig.update_layout(height=800, showlegend=False, title_text=\"Análise de Performance por Agência\")\n",
    "fig.show()\n",
    "\n",
    "print(f\"\\n📈 Resumo:\")\n",
    "print(f\"• Agência mais ativa: {resultado_1.iloc[0]['nome_agencia']} ({resultado_1.iloc[0]['codigo_agencia']})\")\n",
    "print(f\"• Total movimentado: R$ {resultado_1.iloc[0]['valor_total_movimentado']:,.2f}\")\n",
    "print(f\"• Estados com mais transações: {', '.join(estado_dist.head(3)['estado'].tolist())}\")"
   ]
  },
  {
   "cell_type": "markdown",
   "id": "30a14923",
   "metadata": {},
   "source": [
    "## 👥 Consulta 2: Perfil de Clientes por Tipo de Movimentação\n",
    "\n",
    "**Objetivo**: Analisar o comportamento dos clientes segmentados por tipos de transação e produtos utilizados."
   ]
  },
  {
   "cell_type": "code",
   "execution_count": null,
   "id": "66592c75",
   "metadata": {},
   "outputs": [
    {
     "name": "stdout",
     "output_type": "stream",
     "text": [
      "👥 PERFIL DE CLIENTES POR SEGMENTO E FAIXA ETÁRIA\n",
      "==========================================================================================\n",
      "Segmento   Faixa Etária    Qtd    Mov.Média    Cartões  PIX   \n",
      "------------------------------------------------------------------------------------------\n",
      "Premium    Adulto (25-40)   210   5,145,209     4.1   0.9\n",
      "Premium    Jovem (< 25)     113   5,293,526     4.3   0.8\n",
      "Premium    Maduro (40-60)   316   5,249,553     4.2   0.9\n",
      "Premium    Senior (60+)     351   5,237,933     4.4   0.9\n",
      "Gold       Adulto (25-40)     2     353,227     1.0   0.0\n",
      "Gold       Jovem (< 25)       3     391,452     1.0   0.3\n",
      "Gold       Maduro (40-60)     1     177,023     0.0   0.0\n",
      "Gold       Senior (60+)       4     380,969     0.8   0.5\n"
     ]
    },
    {
     "data": {
      "image/png": "[encoded data removed]",
      "text/plain": [
       "<Figure size 1600x600 with 4 Axes>"
      ]
     },
     "metadata": {},
     "output_type": "display_data"
    },
    {
     "name": "stdout",
     "output_type": "stream",
     "text": [
      "\n",
      "💼 Resumo por Segmento:\n",
      "• Gold: 10 clientes, 0.1% do volume total\n",
      "• Premium: 990 clientes, 99.9% do volume total\n"
     ]
    }
   ],
   "source": [
    "# Consulta 2: Perfil de clientes por tipo de movimentação\n",
    "query_2 = f\"\"\"\n",
    "WITH cliente_perfil AS (\n",
    "    SELECT \n",
    "        cl.id_cliente,\n",
    "        cl.nome as nome_cliente,\n",
    "        cl.cpf,\n",
    "        EXTRACT(YEAR FROM CURRENT_DATE) - EXTRACT(YEAR FROM cl.data_nascimento) as idade,\n",
    "        COUNT(DISTINCT c.id_conta) as total_contas,\n",
    "        COUNT(DISTINCT cart.numero_cartao) as total_cartoes,\n",
    "        COUNT(DISTINCT pix.id_chave_pix) as total_chaves_pix,\n",
    "        COUNT(t.id_transacao) as total_transacoes,\n",
    "        SUM(t.valor) as valor_total_movimentado,\n",
    "        AVG(t.valor) as valor_medio_transacao\n",
    "    FROM \"{TARGET_SCHEMA}\".clientes cl\n",
    "    LEFT JOIN \"{TARGET_SCHEMA}\".contas c ON cl.id_cliente = c.id_cliente\n",
    "    LEFT JOIN \"{TARGET_SCHEMA}\".cartoes cart ON cl.id_cliente = cart.id_cliente\n",
    "    LEFT JOIN \"{TARGET_SCHEMA}\".chaves_pix pix ON c.id_conta = pix.id_conta\n",
    "    LEFT JOIN \"{TARGET_SCHEMA}\".transacoes t ON c.id_conta = t.id_conta\n",
    "    GROUP BY cl.id_cliente, cl.nome, cl.cpf, cl.data_nascimento\n",
    "),\n",
    "segmentacao AS (\n",
    "    SELECT *,\n",
    "        CASE \n",
    "            WHEN valor_total_movimentado >= 500000 THEN 'Premium'\n",
    "            WHEN valor_total_movimentado >= 100000 THEN 'Gold'\n",
    "            WHEN valor_total_movimentado >= 50000 THEN 'Silver'\n",
    "            ELSE 'Standard'\n",
    "        END as segmento_cliente,\n",
    "        CASE \n",
    "            WHEN idade < 25 THEN 'Jovem (< 25)'\n",
    "            WHEN idade < 40 THEN 'Adulto (25-40)'\n",
    "            WHEN idade < 60 THEN 'Maduro (40-60)'\n",
    "            ELSE 'Senior (60+)'\n",
    "        END as faixa_etaria\n",
    "    FROM cliente_perfil\n",
    "    WHERE total_transacoes > 0\n",
    ")\n",
    "SELECT \n",
    "    segmento_cliente,\n",
    "    faixa_etaria,\n",
    "    COUNT(*) as quantidade_clientes,\n",
    "    AVG(total_transacoes) as media_transacoes,\n",
    "    AVG(valor_total_movimentado) as media_movimentacao,\n",
    "    AVG(total_cartoes) as media_cartoes,\n",
    "    AVG(total_chaves_pix) as media_chaves_pix,\n",
    "    SUM(valor_total_movimentado) as valor_total_segmento\n",
    "FROM segmentacao\n",
    "GROUP BY segmento_cliente, faixa_etaria\n",
    "ORDER BY \n",
    "    CASE segmento_cliente \n",
    "        WHEN 'Premium' THEN 1 \n",
    "        WHEN 'Gold' THEN 2 \n",
    "        WHEN 'Silver' THEN 3 \n",
    "        ELSE 4 \n",
    "    END,\n",
    "    faixa_etaria;\n",
    "\"\"\"\n",
    "\n",
    "resultado_2 = pd.read_sql(query_2, engine)\n",
    "\n",
    "print(\"👥 PERFIL DE CLIENTES POR SEGMENTO E FAIXA ETÁRIA\")\n",
    "print(\"=\" * 90)\n",
    "print(f\"{'Segmento':<10} {'Faixa Etária':<15} {'Qtd':<6} {'Mov.Média':<12} {'Cartões':<8} {'PIX':<6}\")\n",
    "print(\"-\" * 90)\n",
    "\n",
    "for _, row in resultado_2.iterrows():\n",
    "    print(f\"{row['segmento_cliente']:<10} {row['faixa_etaria']:<15} \"\n",
    "          f\"{row['quantidade_clientes']:>4} {row['media_movimentacao']:>11,.0f} \"\n",
    "          f\"{row['media_cartoes']:>7.1f} {row['media_chaves_pix']:>5.1f}\")\n",
    "\n",
    "# Visualização com heatmap\n",
    "pivot_clientes = resultado_2.pivot(index='faixa_etaria', \n",
    "                                  columns='segmento_cliente', \n",
    "                                  values='quantidade_clientes').fillna(0)\n",
    "\n",
    "pivot_movimentacao = resultado_2.pivot(index='faixa_etaria', \n",
    "                                       columns='segmento_cliente', \n",
    "                                       values='media_movimentacao').fillna(0)\n",
    "\n",
    "fig, (ax1, ax2) = plt.subplots(1, 2, figsize=(16, 6))\n",
    "\n",
    "# Heatmap 1: Quantidade de clientes\n",
    "sns.heatmap(pivot_clientes, annot=True, fmt='.0f', cmap='Blues', \n",
    "            ax=ax1, cbar_kws={'label': 'Quantidade de Clientes'})\n",
    "ax1.set_title('Distribuição de Clientes por Segmento e Idade', fontweight='bold')\n",
    "ax1.set_xlabel('Segmento')\n",
    "ax1.set_ylabel('Faixa Etária')\n",
    "\n",
    "# Heatmap 2: Movimentação média\n",
    "sns.heatmap(pivot_movimentacao, annot=True, fmt='.0f', cmap='Greens', \n",
    "            ax=ax2, cbar_kws={'label': 'Movimentação Média (R$)'})\n",
    "ax2.set_title('Movimentação Média por Segmento e Idade', fontweight='bold')\n",
    "ax2.set_xlabel('Segmento')\n",
    "ax2.set_ylabel('Faixa Etária')\n",
    "\n",
    "plt.tight_layout()\n",
    "plt.show()\n",
    "\n",
    "# Análise de produtos por segmento\n",
    "produtos_segmento = resultado_2.groupby('segmento_cliente').agg({\n",
    "    'quantidade_clientes': 'sum',\n",
    "    'media_cartoes': 'mean',\n",
    "    'media_chaves_pix': 'mean',\n",
    "    'valor_total_segmento': 'sum'\n",
    "}).reset_index()\n",
    "\n",
    "print(f\"\\n💼 Resumo por Segmento:\")\n",
    "for _, row in produtos_segmento.iterrows():\n",
    "    participacao = (row['valor_total_segmento'] / produtos_segmento['valor_total_segmento'].sum()) * 100\n",
    "    print(f\"• {row['segmento_cliente']}: {row['quantidade_clientes']} clientes, \"\n",
    "          f\"{participacao:.1f}% do volume total\")"
   ]
  },
  {
   "cell_type": "markdown",
   "id": "367c7ac4",
   "metadata": {},
   "source": [
    "## 💳 Consulta 3: Análise de Relacionamento PIX vs Cartões\n",
    "\n",
    "**Objetivo**: Identificar padrões de uso entre PIX e cartões, analisando a adoção de diferentes meios de pagamento."
   ]
  },
  {
   "cell_type": "code",
   "execution_count": null,
   "id": "7597ca5e",
   "metadata": {},
   "outputs": [
    {
     "name": "stdout",
     "output_type": "stream",
     "text": [
      "💳 ANÁLISE DE RELACIONAMENTO PIX vs CARTÕES POR ESTADO\n",
      "=====================================================================================\n",
      "Estado Perfil           Qtd    % Estado  Cartões  PIX   \n",
      "-------------------------------------------------------------------------------------\n",
      "AP     Só Cartão          40     61.5%     4.7   0.0\n",
      "AP     Usuário Completo   25     38.5%     4.4   1.5\n",
      "CE     Só Cartão          31     51.7%     4.4   0.0\n",
      "CE     Usuário Completo   29     48.3%     4.2   1.3\n",
      "MT     Usuário Completo   31     50.8%     4.5   1.6\n",
      "MT     Só Cartão          30     49.2%     5.0   0.0\n",
      "PB     Só Cartão          71     55.9%     4.3   0.0\n",
      "PB     Usuário Completo   56     44.1%     4.2   1.4\n",
      "PR     Só Cartão          25     54.3%     5.0   0.0\n",
      "PR     Usuário Completo   21     45.7%     4.2   1.4\n",
      "RJ     Só Cartão          95     53.7%     4.1   0.0\n",
      "RJ     Usuário Completo   82     46.3%     4.6   1.5\n",
      "RN     Usuário Completo   35     53.0%     3.9   1.4\n",
      "RN     Só Cartão          31     47.0%     3.5   0.0\n",
      "RO     Usuário Completo   34     63.0%     4.0   1.5\n",
      "RO     Só Cartão          20     37.0%     4.2   0.0\n",
      "RS     Só Cartão         132     54.5%     4.1   0.0\n",
      "RS     Usuário Completo  110     45.5%     4.6   1.5\n",
      "SP     Usuário Completo  159     50.3%     4.4   1.5\n",
      "SP     Só Cartão         149     47.2%     4.2   0.0\n"
     ]
    },
    {
     "data": {
      "image/png": "[encoded data removed]",
      "text/plain": [
       "<Figure size 1600x1200 with 5 Axes>"
      ]
     },
     "metadata": {},
     "output_type": "display_data"
    },
    {
     "name": "stdout",
     "output_type": "stream",
     "text": [
      "\n",
      "📊 Insights Principais:\n",
      "• Perfil dominante: Só Cartão (51.4% dos clientes)\n",
      "• Estado com mais clientes: SP (316 clientes)\n",
      "• Total de clientes analisados: 1,214\n",
      "\n",
      "✅ Análises intermediárias concluídas!\n",
      "🔄 Próximo passo: Execute o notebook de análises complexas\n"
     ]
    }
   ],
   "source": [
    "# Consulta 3: Análise de relacionamento PIX vs Cartões\n",
    "query_3 = f\"\"\"\n",
    "WITH cliente_produtos AS (\n",
    "    SELECT \n",
    "        cl.id_cliente,\n",
    "        cl.nome as nome_cliente,\n",
    "        cl.cpf,\n",
    "        a.estado,\n",
    "        a.cidade,\n",
    "        COUNT(DISTINCT cart.numero_cartao) as total_cartoes,\n",
    "        COUNT(DISTINCT CASE WHEN cart.status = 'A' THEN cart.numero_cartao END) as cartoes_ativos,\n",
    "        COUNT(DISTINCT pix.id_chave_pix) as total_chaves_pix,\n",
    "        COUNT(DISTINCT CASE WHEN pix.status = 'A' THEN pix.id_chave_pix END) as chaves_pix_ativas,\n",
    "        STRING_AGG(DISTINCT pix.tipo_chave, ', ') as tipos_chaves_pix\n",
    "    FROM \"{TARGET_SCHEMA}\".clientes cl\n",
    "    JOIN \"{TARGET_SCHEMA}\".contas c ON cl.id_cliente = c.id_cliente\n",
    "    JOIN \"{TARGET_SCHEMA}\".agencias a ON c.codigo_agencia = a.codigo_agencia\n",
    "    LEFT JOIN \"{TARGET_SCHEMA}\".cartoes cart ON cl.id_cliente = cart.id_cliente\n",
    "    LEFT JOIN \"{TARGET_SCHEMA}\".chaves_pix pix ON c.id_conta = pix.id_conta\n",
    "    GROUP BY cl.id_cliente, cl.nome, cl.cpf, a.estado, a.cidade\n",
    "),\n",
    "perfil_produtos AS (\n",
    "    SELECT *,\n",
    "        CASE \n",
    "            WHEN total_cartoes > 0 AND total_chaves_pix > 0 THEN 'Usuário Completo'\n",
    "            WHEN total_cartoes > 0 AND total_chaves_pix = 0 THEN 'Só Cartão'\n",
    "            WHEN total_cartoes = 0 AND total_chaves_pix > 0 THEN 'Só PIX'\n",
    "            ELSE 'Sem Produtos'\n",
    "        END as perfil_uso\n",
    "    FROM cliente_produtos\n",
    ")\n",
    "SELECT \n",
    "    perfil_uso,\n",
    "    estado,\n",
    "    COUNT(*) as quantidade_clientes,\n",
    "    AVG(total_cartoes) as media_cartoes,\n",
    "    AVG(total_chaves_pix) as media_chaves_pix,\n",
    "    AVG(cartoes_ativos) as media_cartoes_ativos,\n",
    "    AVG(chaves_pix_ativas) as media_chaves_ativas,\n",
    "    COUNT(*) * 100.0 / SUM(COUNT(*)) OVER(PARTITION BY estado) as percentual_estado\n",
    "FROM perfil_produtos\n",
    "GROUP BY perfil_uso, estado\n",
    "HAVING COUNT(*) > 5\n",
    "ORDER BY estado, quantidade_clientes DESC;\n",
    "\"\"\"\n",
    "\n",
    "resultado_3 = pd.read_sql(query_3, engine)\n",
    "\n",
    "print(\"💳 ANÁLISE DE RELACIONAMENTO PIX vs CARTÕES POR ESTADO\")\n",
    "print(\"=\" * 85)\n",
    "print(f\"{'Estado':<6} {'Perfil':<16} {'Qtd':<6} {'% Estado':<9} {'Cartões':<8} {'PIX':<6}\")\n",
    "print(\"-\" * 85)\n",
    "\n",
    "for _, row in resultado_3.head(20).iterrows():\n",
    "    print(f\"{row['estado']:<6} {row['perfil_uso']:<16} \"\n",
    "          f\"{row['quantidade_clientes']:>4} {row['percentual_estado']:>8.1f}% \"\n",
    "          f\"{row['media_cartoes']:>7.1f} {row['media_chaves_pix']:>5.1f}\")\n",
    "\n",
    "# Análise consolidada por perfil\n",
    "consolidado = resultado_3.groupby('perfil_uso').agg({\n",
    "    'quantidade_clientes': 'sum',\n",
    "    'media_cartoes': 'mean',\n",
    "    'media_chaves_pix': 'mean'\n",
    "}).reset_index()\n",
    "\n",
    "total_clientes = consolidado['quantidade_clientes'].sum()\n",
    "consolidado['percentual_total'] = (consolidado['quantidade_clientes'] / total_clientes) * 100\n",
    "\n",
    "# Visualização\n",
    "fig, ((ax1, ax2), (ax3, ax4)) = plt.subplots(2, 2, figsize=(16, 12))\n",
    "\n",
    "# Gráfico 1: Distribuição geral por perfil\n",
    "colors = ['#ff9999', '#66b3ff', '#99ff99', '#ffcc99']\n",
    "wedges, texts, autotexts = ax1.pie(consolidado['quantidade_clientes'], \n",
    "                                   labels=consolidado['perfil_uso'],\n",
    "                                   autopct='%1.1f%%',\n",
    "                                   colors=colors,\n",
    "                                   startangle=90)\n",
    "ax1.set_title('Distribuição de Clientes por Perfil de Uso', fontweight='bold')\n",
    "\n",
    "# Gráfico 2: Produtos por perfil\n",
    "x_pos = range(len(consolidado))\n",
    "width = 0.35\n",
    "\n",
    "bars1 = ax2.bar([x - width/2 for x in x_pos], consolidado['media_cartoes'], \n",
    "                width, label='Cartões', color='lightcoral', alpha=0.8)\n",
    "bars2 = ax2.bar([x + width/2 for x in x_pos], consolidado['media_chaves_pix'], \n",
    "                width, label='Chaves PIX', color='lightblue', alpha=0.8)\n",
    "\n",
    "ax2.set_title('Média de Produtos por Perfil', fontweight='bold')\n",
    "ax2.set_xlabel('Perfil de Uso')\n",
    "ax2.set_ylabel('Quantidade Média')\n",
    "ax2.set_xticks(x_pos)\n",
    "ax2.set_xticklabels(consolidado['perfil_uso'], rotation=45)\n",
    "ax2.legend()\n",
    "ax2.grid(True, alpha=0.3)\n",
    "\n",
    "# Gráfico 3: Distribuição por estado (top 5)\n",
    "top_estados = resultado_3.groupby('estado')['quantidade_clientes'].sum().nlargest(5)\n",
    "ax3.bar(top_estados.index, top_estados.values, color='lightgreen', alpha=0.8)\n",
    "ax3.set_title('Top 5 Estados por Quantidade de Clientes', fontweight='bold')\n",
    "ax3.set_ylabel('Quantidade de Clientes')\n",
    "ax3.grid(True, alpha=0.3)\n",
    "\n",
    "# Gráfico 4: Heatmap de perfis por estado\n",
    "pivot_estados = resultado_3.pivot_table(index='estado', \n",
    "                                        columns='perfil_uso', \n",
    "                                        values='quantidade_clientes', \n",
    "                                        fill_value=0)\n",
    "sns.heatmap(pivot_estados.head(10), annot=True, fmt='.0f', cmap='YlOrRd', ax=ax4)\n",
    "ax4.set_title('Distribuição de Perfis por Estado (Top 10)', fontweight='bold')\n",
    "ax4.set_xlabel('Perfil de Uso')\n",
    "ax4.set_ylabel('Estado')\n",
    "\n",
    "plt.tight_layout()\n",
    "plt.show()\n",
    "\n",
    "print(f\"\\n📊 Insights Principais:\")\n",
    "perfil_dominante = consolidado.loc[consolidado['percentual_total'].idxmax()]\n",
    "print(f\"• Perfil dominante: {perfil_dominante['perfil_uso']} ({perfil_dominante['percentual_total']:.1f}% dos clientes)\")\n",
    "print(f\"• Estado com mais clientes: {top_estados.index[0]} ({top_estados.iloc[0]:,} clientes)\")\n",
    "print(f\"• Total de clientes analisados: {total_clientes:,}\")\n",
    "\n",
    "print(\"\\n✅ Análises intermediárias concluídas!\")\n",
    "print(\"🔄 Próximo passo: Execute o notebook de análises complexas\")"
   ]
  }
 ],
 "metadata": {
  "kernelspec": {
   "display_name": "data-governance-with-purview-fabric-and-databricks",
   "language": "python",
   "name": "python3"
  },
  "language_info": {
   "codemirror_mode": {
    "name": "ipython",
    "version": 3
   },
   "file_extension": ".py",
   "mimetype": "text/x-python",
   "name": "python",
   "nbconvert_exporter": "python",
   "pygments_lexer": "ipython3",
   "version": "3.13.1"
  }
 },
 "nbformat": 4,
 "nbformat_minor": 5
}
